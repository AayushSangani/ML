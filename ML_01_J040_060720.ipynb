{
  "nbformat": 4,
  "nbformat_minor": 0,
  "metadata": {
    "colab": {
      "name": "ML_1.ipynb",
      "provenance": [],
      "collapsed_sections": [],
      "authorship_tag": "ABX9TyOnbddiVbZToOPmWk9vA0c1",
      "include_colab_link": true
    },
    "kernelspec": {
      "name": "python3",
      "display_name": "Python 3"
    }
  },
  "cells": [
    {
      "cell_type": "markdown",
      "metadata": {
        "id": "view-in-github",
        "colab_type": "text"
      },
      "source": [
        "<a href=\"https://colab.research.google.com/github/AayushSangani/ML/blob/master/ML_01_J040_060720.ipynb\" target=\"_parent\"><img src=\"https://colab.research.google.com/assets/colab-badge.svg\" alt=\"Open In Colab\"/></a>"
      ]
    },
    {
      "cell_type": "markdown",
      "metadata": {
        "id": "eJNU3G9MQBKX",
        "colab_type": "text"
      },
      "source": [
        "**Exploring Variables in a Dataset**"
      ]
    },
    {
      "cell_type": "code",
      "metadata": {
        "id": "Q964z7aw2mDf",
        "colab_type": "code",
        "colab": {}
      },
      "source": [
        "import pandas as pd\n",
        "import matplotlib.pylab as plt\n",
        "import numpy as np"
      ],
      "execution_count": 1,
      "outputs": []
    },
    {
      "cell_type": "markdown",
      "metadata": {
        "id": "U6ZZmKS7NMzj",
        "colab_type": "text"
      },
      "source": [
        "**Depression**"
      ]
    },
    {
      "cell_type": "code",
      "metadata": {
        "id": "-u1DrC6WkU_Y",
        "colab_type": "code",
        "colab": {
          "resources": {
            "http://localhost:8080/nbextensions/google.colab/files.js": {
              "data": "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",
              "ok": true,
              "headers": [
                [
                  "content-type",
                  "application/javascript"
                ]
              ],
              "status": 200,
              "status_text": ""
            }
          },
          "base_uri": "https://localhost:8080/",
          "height": 111
        },
        "outputId": "39e0a93e-24fb-410a-ad9e-409136ee8242"
      },
      "source": [
        "from google.colab import files\n",
        "files.upload()"
      ],
      "execution_count": 22,
      "outputs": [
        {
          "output_type": "display_data",
          "data": {
            "text/html": [
              "\n",
              "     <input type=\"file\" id=\"files-48613125-c595-4ccd-8db0-2cbfd8f2e214\" name=\"files[]\" multiple disabled\n",
              "        style=\"border:none\" />\n",
              "     <output id=\"result-48613125-c595-4ccd-8db0-2cbfd8f2e214\">\n",
              "      Upload widget is only available when the cell has been executed in the\n",
              "      current browser session. Please rerun this cell to enable.\n",
              "      </output>\n",
              "      <script src=\"/nbextensions/google.colab/files.js\"></script> "
            ],
            "text/plain": [
              "<IPython.core.display.HTML object>"
            ]
          },
          "metadata": {
            "tags": []
          }
        },
        {
          "output_type": "stream",
          "text": [
            "Saving depression.csv to depression (1).csv\n"
          ],
          "name": "stdout"
        },
        {
          "output_type": "execute_result",
          "data": {
            "text/plain": [
              "{'depression.csv': b'\"\",\"Hospt\",\"Treat\",\"Outcome\",\"Time\",\"AcuteT\",\"Age\",\"Gender\"\\n\"1\",1,0,1,36.14300156,211,33,1\\n\"2\",1,1,0,105.1429977,176,49,1\\n\"3\",1,1,0,74.57099915,191,50,1\\n\"4\",1,0,1,49.7140007,206,29,2\\n\"5\",1,0,0,14.4289999,63,29,1\\n\"6\",1,2,1,5,70,30,2\\n\"7\",1,0,0,104.8570023,55,56,1\\n\"8\",1,2,1,2.857000113,512,48,1\\n\"9\",1,2,0,102.4290009,162,22,2\\n\"10\",1,2,1,55.7140007,306,61,2\\n\"11\",1,1,0,106.4290009,165,58,1\\n\"12\",1,1,0,105.1429977,129,31,1\\n\"13\",1,1,0,83,428,44,1\\n\"14\",1,1,1,27.2859993,256,55,2\\n\"15\",1,0,0,105.8570023,197,57,2\\n\"16\",1,0,1,5.571000099,227,46,1\\n\"17\",1,1,0,98,168,58,1\\n\"18\",1,0,0,16.2859993,194,57,1\\n\"19\",2,0,1,1.286000013,173,54,1\\n\"20\",2,0,0,2.142999887,48,23,1\\n\"21\",2,1,0,100,47,65,1\\n\"22\",2,1,1,27.14299965,95,27,1\\n\"23\",2,0,1,4,148,50,1\\n\"24\",2,0,1,74.14299774,127,41,2\\n\"25\",2,2,0,104.8570023,129,65,1\\n\"26\",2,2,1,0.143000007,182,52,1\\n\"27\",2,2,1,1.42900002,90,60,1\\n\"28\",2,2,1,45.85699844,177,25,2\\n\"29\",2,1,1,17.42900085,234,27,2\\n\"30\",2,1,0,78,322,32,1\\n\"31\",2,1,1,66.85700226,141,43,2\\n\"32\",2,2,0,78.42900085,165,20,2\\n\"33\",2,0,0,78.42900085,239,23,2\\n\"34\",2,1,0,78.14299774,147,36,2\\n\"35\",2,1,0,15.85700035,348,22,2\\n\"36\",3,0,0,79,274,49,2\\n\"37\",3,1,0,32.57099915,130,40,2\\n\"38\",3,0,1,9,98,54,2\\n\"39\",3,0,1,3.286000013,77,26,1\\n\"40\",3,1,0,206,90,48,1\\n\"41\",3,0,1,30,280,51,2\\n\"42\",3,2,1,7.143000126,167,35,2\\n\"43\",3,2,1,31,181,28,1\\n\"44\",3,2,1,17.2859993,399,23,1\\n\"45\",3,2,1,0.143000007,289,57,2\\n\"46\",5,0,1,3.286000013,182,47,1\\n\"47\",5,1,0,1.57099998,159,31,2\\n\"48\",5,0,1,19.7140007,122,27,1\\n\"49\",5,1,0,126.7139969,115,61,1\\n\"50\",5,2,1,8,343,60,1\\n\"51\",5,0,1,71.71399689,114,28,1\\n\"52\",5,2,1,63.7140007,249,36,1\\n\"53\",5,2,0,96.28600311,140,29,1\\n\"54\",5,0,0,50.85699844,110,34,1\\n\"55\",5,1,0,155,214,49,1\\n\"56\",5,1,0,39.57099915,224,45,1\\n\"57\",5,0,1,36.2859993,294,28,1\\n\"58\",5,2,0,102.5709991,162,24,2\\n\"59\",5,2,1,8.142999649,140,33,2\\n\"60\",5,1,0,28,147,34,1\\n\"61\",5,1,0,38,138,60,1\\n\"62\",5,1,0,111.5709991,196,23,2\\n\"63\",5,0,0,165,139,35,1\\n\"64\",5,2,1,16,246,45,1\\n\"65\",5,0,0,124.5709991,105,46,1\\n\"66\",5,0,0,68,160,38,2\\n\"67\",5,2,0,39.57099915,146,32,2\\n\"68\",5,2,0,131,187,33,1\\n\"69\",5,1,1,3.428999901,372,52,1\\n\"70\",5,0,0,42,146,50,2\\n\"71\",5,1,0,26,131,38,1\\n\"72\",5,0,1,37.85699844,237,47,1\\n\"73\",5,1,1,92.71399689,105,23,1\\n\"74\",5,1,0,106.7139969,140,31,1\\n\"75\",5,2,1,11.14299965,136,55,1\\n\"76\",5,2,0,115,147,39,1\\n\"77\",5,2,1,44,160,41,1\\n\"78\",5,1,0,75,175,62,2\\n\"79\",5,2,0,77.85700226,261,50,2\\n\"80\",5,0,1,0.286000013,146,46,1\\n\"81\",5,1,0,86,195,33,2\\n\"82\",5,2,0,12.4289999,476,22,1\\n\"83\",5,0,0,22,441,37,2\\n\"84\",6,0,1,5.428999901,86,40,2\\n\"85\",6,0,0,67,201,22,1\\n\"86\",6,1,1,3.428999901,130,30,2\\n\"87\",6,0,1,6.285999775,86,63,2\\n\"88\",6,1,0,5,209,40,1\\n\"89\",6,0,1,5.285999775,214,23,1\\n\"90\",6,1,1,1,72,52,1\\n\"91\",6,2,1,3.428999901,238,23,1\\n\"92\",6,2,1,6.571000099,133,22,2\\n\"93\",6,2,1,1,128,23,1\\n\"94\",6,2,0,45,139,30,2\\n\"95\",6,1,0,109.5709991,148,26,2\\n\"96\",6,0,1,0.856999993,285,46,1\\n\"97\",6,2,1,4.714000225,141,61,1\\n\"98\",6,1,1,0.57099998,212,30,2\\n\"99\",6,1,0,9.142999649,168,39,1\\n\"100\",6,1,0,102,305,49,1\\n\"101\",6,0,1,46.2859993,204,57,1\\n\"102\",6,0,1,0.57099998,140,51,1\\n\"103\",6,0,1,6.428999901,182,53,1\\n\"104\",6,2,1,0,162,31,1\\n\"105\",6,2,1,20.85700035,207,43,1\\n\"106\",6,2,1,18.2859993,102,29,1\\n\"107\",6,1,1,31.85700035,154,28,1\\n\"108\",6,1,1,22,203,51,1\\n\"109\",6,0,1,2,176,33,1\\n'}"
            ]
          },
          "metadata": {
            "tags": []
          },
          "execution_count": 22
        }
      ]
    },
    {
      "cell_type": "code",
      "metadata": {
        "id": "ScWY_vVA2uDk",
        "colab_type": "code",
        "colab": {
          "base_uri": "https://localhost:8080/",
          "height": 202
        },
        "outputId": "78e7fef8-5f16-4e5c-cfc5-681c7bb4c93d"
      },
      "source": [
        "d = pd.read_csv('depression.csv')\n",
        "d.head()"
      ],
      "execution_count": 19,
      "outputs": [
        {
          "output_type": "execute_result",
          "data": {
            "text/html": [
              "<div>\n",
              "<style scoped>\n",
              "    .dataframe tbody tr th:only-of-type {\n",
              "        vertical-align: middle;\n",
              "    }\n",
              "\n",
              "    .dataframe tbody tr th {\n",
              "        vertical-align: top;\n",
              "    }\n",
              "\n",
              "    .dataframe thead th {\n",
              "        text-align: right;\n",
              "    }\n",
              "</style>\n",
              "<table border=\"1\" class=\"dataframe\">\n",
              "  <thead>\n",
              "    <tr style=\"text-align: right;\">\n",
              "      <th></th>\n",
              "      <th>Unnamed: 0</th>\n",
              "      <th>Hospt</th>\n",
              "      <th>Treat</th>\n",
              "      <th>Outcome</th>\n",
              "      <th>Time</th>\n",
              "      <th>AcuteT</th>\n",
              "      <th>Age</th>\n",
              "      <th>Gender</th>\n",
              "    </tr>\n",
              "  </thead>\n",
              "  <tbody>\n",
              "    <tr>\n",
              "      <th>0</th>\n",
              "      <td>1</td>\n",
              "      <td>1</td>\n",
              "      <td>0</td>\n",
              "      <td>1</td>\n",
              "      <td>36.143002</td>\n",
              "      <td>211</td>\n",
              "      <td>33</td>\n",
              "      <td>1</td>\n",
              "    </tr>\n",
              "    <tr>\n",
              "      <th>1</th>\n",
              "      <td>2</td>\n",
              "      <td>1</td>\n",
              "      <td>1</td>\n",
              "      <td>0</td>\n",
              "      <td>105.142998</td>\n",
              "      <td>176</td>\n",
              "      <td>49</td>\n",
              "      <td>1</td>\n",
              "    </tr>\n",
              "    <tr>\n",
              "      <th>2</th>\n",
              "      <td>3</td>\n",
              "      <td>1</td>\n",
              "      <td>1</td>\n",
              "      <td>0</td>\n",
              "      <td>74.570999</td>\n",
              "      <td>191</td>\n",
              "      <td>50</td>\n",
              "      <td>1</td>\n",
              "    </tr>\n",
              "    <tr>\n",
              "      <th>3</th>\n",
              "      <td>4</td>\n",
              "      <td>1</td>\n",
              "      <td>0</td>\n",
              "      <td>1</td>\n",
              "      <td>49.714001</td>\n",
              "      <td>206</td>\n",
              "      <td>29</td>\n",
              "      <td>2</td>\n",
              "    </tr>\n",
              "    <tr>\n",
              "      <th>4</th>\n",
              "      <td>5</td>\n",
              "      <td>1</td>\n",
              "      <td>0</td>\n",
              "      <td>0</td>\n",
              "      <td>14.429000</td>\n",
              "      <td>63</td>\n",
              "      <td>29</td>\n",
              "      <td>1</td>\n",
              "    </tr>\n",
              "  </tbody>\n",
              "</table>\n",
              "</div>"
            ],
            "text/plain": [
              "   Unnamed: 0  Hospt  Treat  Outcome        Time  AcuteT  Age  Gender\n",
              "0           1      1      0        1   36.143002     211   33       1\n",
              "1           2      1      1        0  105.142998     176   49       1\n",
              "2           3      1      1        0   74.570999     191   50       1\n",
              "3           4      1      0        1   49.714001     206   29       2\n",
              "4           5      1      0        0   14.429000      63   29       1"
            ]
          },
          "metadata": {
            "tags": []
          },
          "execution_count": 19
        }
      ]
    },
    {
      "cell_type": "code",
      "metadata": {
        "id": "v-cKbu105Z_w",
        "colab_type": "code",
        "colab": {
          "base_uri": "https://localhost:8080/",
          "height": 364
        },
        "outputId": "2141376b-17f9-4a36-dd9e-9a70f997aeed"
      },
      "source": [
        "d.head(10), d.dtypes"
      ],
      "execution_count": 12,
      "outputs": [
        {
          "output_type": "execute_result",
          "data": {
            "text/plain": [
              "(   Unnamed: 0  Hospt  Treat  Outcome        Time  AcuteT  Age  Gender\n",
              " 0           1      1      0        1   36.143002     211   33       1\n",
              " 1           2      1      1        0  105.142998     176   49       1\n",
              " 2           3      1      1        0   74.570999     191   50       1\n",
              " 3           4      1      0        1   49.714001     206   29       2\n",
              " 4           5      1      0        0   14.429000      63   29       1\n",
              " 5           6      1      2        1    5.000000      70   30       2\n",
              " 6           7      1      0        0  104.857002      55   56       1\n",
              " 7           8      1      2        1    2.857000     512   48       1\n",
              " 8           9      1      2        0  102.429001     162   22       2\n",
              " 9          10      1      2        1   55.714001     306   61       2,\n",
              " Unnamed: 0      int64\n",
              " Hospt           int64\n",
              " Treat           int64\n",
              " Outcome         int64\n",
              " Time          float64\n",
              " AcuteT          int64\n",
              " Age             int64\n",
              " Gender          int64\n",
              " dtype: object)"
            ]
          },
          "metadata": {
            "tags": []
          },
          "execution_count": 12
        }
      ]
    },
    {
      "cell_type": "markdown",
      "metadata": {
        "id": "eB1J0eTTQW4Z",
        "colab_type": "text"
      },
      "source": [
        "Q1. What are the categorical variables in this dataset?\n",
        "\n",
        "Ans. \n",
        "  \n",
        "     Hospt, Treat, Outcome, Gender"
      ]
    },
    {
      "cell_type": "markdown",
      "metadata": {
        "id": "c5RFlvVezmw1",
        "colab_type": "text"
      },
      "source": [
        "Q2. What are the quantitative variables in this dataset?\n",
        "\n",
        "Ans. \n",
        "\n",
        "     Time, AcuteT, Age"
      ]
    },
    {
      "cell_type": "markdown",
      "metadata": {
        "id": "qHX-DNWnThq9",
        "colab_type": "text"
      },
      "source": [
        "**Friends**"
      ]
    },
    {
      "cell_type": "code",
      "metadata": {
        "id": "bcJDoHBcgpND",
        "colab_type": "code",
        "colab": {
          "resources": {
            "http://localhost:8080/nbextensions/google.colab/files.js": {
              "data": "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",
              "ok": true,
              "headers": [
                [
                  "content-type",
                  "application/javascript"
                ]
              ],
              "status": 200,
              "status_text": ""
            }
          },
          "base_uri": "https://localhost:8080/",
          "height": 93
        },
        "outputId": "514e9699-b533-483a-a0bc-31db093cf88f"
      },
      "source": [
        "from google.colab import files\n",
        "files.upload()"
      ],
      "execution_count": 20,
      "outputs": [
        {
          "output_type": "display_data",
          "data": {
            "text/html": [
              "\n",
              "     <input type=\"file\" id=\"files-019f5c3b-8a8f-4539-8936-bc6a16005ca4\" name=\"files[]\" multiple disabled\n",
              "        style=\"border:none\" />\n",
              "     <output id=\"result-019f5c3b-8a8f-4539-8936-bc6a16005ca4\">\n",
              "      Upload widget is only available when the cell has been executed in the\n",
              "      current browser session. Please rerun this cell to enable.\n",
              "      </output>\n",
              "      <script src=\"/nbextensions/google.colab/files.js\"></script> "
            ],
            "text/plain": [
              "<IPython.core.display.HTML object>"
            ]
          },
          "metadata": {
            "tags": []
          }
        },
        {
          "output_type": "stream",
          "text": [
            "Saving friends.csv to friends.csv\n"
          ],
          "name": "stdout"
        },
        {
          "output_type": "execute_result",
          "data": {
            "text/plain": [
              "{'friends.csv': b'\"\",\"Friends\"\\n\"1\",\"No difference\"\\n\"2\",\"No difference\"\\n\"3\",\"No difference\"\\n\"4\",\"No difference\"\\n\"5\",\"No difference\"\\n\"6\",\"No difference\"\\n\"7\",\"No difference\"\\n\"8\",\"No difference\"\\n\"9\",\"No difference\"\\n\"10\",\"No difference\"\\n\"11\",\"No difference\"\\n\"12\",\"No difference\"\\n\"13\",\"No difference\"\\n\"14\",\"No difference\"\\n\"15\",\"No difference\"\\n\"16\",\"No difference\"\\n\"17\",\"No difference\"\\n\"18\",\"No difference\"\\n\"19\",\"No difference\"\\n\"20\",\"No difference\"\\n\"21\",\"No difference\"\\n\"22\",\"No difference\"\\n\"23\",\"No difference\"\\n\"24\",\"No difference\"\\n\"25\",\"No difference\"\\n\"26\",\"No difference\"\\n\"27\",\"No difference\"\\n\"28\",\"No difference\"\\n\"29\",\"No difference\"\\n\"30\",\"No difference\"\\n\"31\",\"No difference\"\\n\"32\",\"No difference\"\\n\"33\",\"No difference\"\\n\"34\",\"No difference\"\\n\"35\",\"No difference\"\\n\"36\",\"No difference\"\\n\"37\",\"No difference\"\\n\"38\",\"No difference\"\\n\"39\",\"No difference\"\\n\"40\",\"No difference\"\\n\"41\",\"No difference\"\\n\"42\",\"No difference\"\\n\"43\",\"No difference\"\\n\"44\",\"No difference\"\\n\"45\",\"No difference\"\\n\"46\",\"No difference\"\\n\"47\",\"No difference\"\\n\"48\",\"No difference\"\\n\"49\",\"No difference\"\\n\"50\",\"No difference\"\\n\"51\",\"No difference\"\\n\"52\",\"No difference\"\\n\"53\",\"No difference\"\\n\"54\",\"No difference\"\\n\"55\",\"No difference\"\\n\"56\",\"No difference\"\\n\"57\",\"No difference\"\\n\"58\",\"No difference\"\\n\"59\",\"No difference\"\\n\"60\",\"No difference\"\\n\"61\",\"No difference\"\\n\"62\",\"No difference\"\\n\"63\",\"No difference\"\\n\"64\",\"No difference\"\\n\"65\",\"No difference\"\\n\"66\",\"No difference\"\\n\"67\",\"No difference\"\\n\"68\",\"No difference\"\\n\"69\",\"No difference\"\\n\"70\",\"No difference\"\\n\"71\",\"No difference\"\\n\"72\",\"No difference\"\\n\"73\",\"No difference\"\\n\"74\",\"No difference\"\\n\"75\",\"No difference\"\\n\"76\",\"No difference\"\\n\"77\",\"No difference\"\\n\"78\",\"No difference\"\\n\"79\",\"No difference\"\\n\"80\",\"No difference\"\\n\"81\",\"No difference\"\\n\"82\",\"No difference\"\\n\"83\",\"No difference\"\\n\"84\",\"No difference\"\\n\"85\",\"No difference\"\\n\"86\",\"No difference\"\\n\"87\",\"No difference\"\\n\"88\",\"No difference\"\\n\"89\",\"No difference\"\\n\"90\",\"No difference\"\\n\"91\",\"No difference\"\\n\"92\",\"No difference\"\\n\"93\",\"No difference\"\\n\"94\",\"No difference\"\\n\"95\",\"No difference\"\\n\"96\",\"No difference\"\\n\"97\",\"No difference\"\\n\"98\",\"No difference\"\\n\"99\",\"No difference\"\\n\"100\",\"No difference\"\\n\"101\",\"No difference\"\\n\"102\",\"No difference\"\\n\"103\",\"No difference\"\\n\"104\",\"No difference\"\\n\"105\",\"No difference\"\\n\"106\",\"No difference\"\\n\"107\",\"No difference\"\\n\"108\",\"No difference\"\\n\"109\",\"No difference\"\\n\"110\",\"No difference\"\\n\"111\",\"No difference\"\\n\"112\",\"No difference\"\\n\"113\",\"No difference\"\\n\"114\",\"No difference\"\\n\"115\",\"No difference\"\\n\"116\",\"No difference\"\\n\"117\",\"No difference\"\\n\"118\",\"No difference\"\\n\"119\",\"No difference\"\\n\"120\",\"No difference\"\\n\"121\",\"No difference\"\\n\"122\",\"No difference\"\\n\"123\",\"No difference\"\\n\"124\",\"No difference\"\\n\"125\",\"No difference\"\\n\"126\",\"No difference\"\\n\"127\",\"No difference\"\\n\"128\",\"No difference\"\\n\"129\",\"No difference\"\\n\"130\",\"No difference\"\\n\"131\",\"No difference\"\\n\"132\",\"No difference\"\\n\"133\",\"No difference\"\\n\"134\",\"No difference\"\\n\"135\",\"No difference\"\\n\"136\",\"No difference\"\\n\"137\",\"No difference\"\\n\"138\",\"No difference\"\\n\"139\",\"No difference\"\\n\"140\",\"No difference\"\\n\"141\",\"No difference\"\\n\"142\",\"No difference\"\\n\"143\",\"No difference\"\\n\"144\",\"No difference\"\\n\"145\",\"No difference\"\\n\"146\",\"No difference\"\\n\"147\",\"No difference\"\\n\"148\",\"No difference\"\\n\"149\",\"No difference\"\\n\"150\",\"No difference\"\\n\"151\",\"No difference\"\\n\"152\",\"No difference\"\\n\"153\",\"No difference\"\\n\"154\",\"No difference\"\\n\"155\",\"No difference\"\\n\"156\",\"No difference\"\\n\"157\",\"No difference\"\\n\"158\",\"No difference\"\\n\"159\",\"No difference\"\\n\"160\",\"No difference\"\\n\"161\",\"No difference\"\\n\"162\",\"No difference\"\\n\"163\",\"No difference\"\\n\"164\",\"No difference\"\\n\"165\",\"No difference\"\\n\"166\",\"No difference\"\\n\"167\",\"No difference\"\\n\"168\",\"No difference\"\\n\"169\",\"No difference\"\\n\"170\",\"No difference\"\\n\"171\",\"No difference\"\\n\"172\",\"No difference\"\\n\"173\",\"No difference\"\\n\"174\",\"No difference\"\\n\"175\",\"No difference\"\\n\"176\",\"No difference\"\\n\"177\",\"No difference\"\\n\"178\",\"No difference\"\\n\"179\",\"No difference\"\\n\"180\",\"No difference\"\\n\"181\",\"No difference\"\\n\"182\",\"No difference\"\\n\"183\",\"No difference\"\\n\"184\",\"No difference\"\\n\"185\",\"No difference\"\\n\"186\",\"No difference\"\\n\"187\",\"No difference\"\\n\"188\",\"No difference\"\\n\"189\",\"No difference\"\\n\"190\",\"No difference\"\\n\"191\",\"No difference\"\\n\"192\",\"No difference\"\\n\"193\",\"No difference\"\\n\"194\",\"No difference\"\\n\"195\",\"No difference\"\\n\"196\",\"No difference\"\\n\"197\",\"No difference\"\\n\"198\",\"No difference\"\\n\"199\",\"No difference\"\\n\"200\",\"No difference\"\\n\"201\",\"No difference\"\\n\"202\",\"No difference\"\\n\"203\",\"No difference\"\\n\"204\",\"No difference\"\\n\"205\",\"No difference\"\\n\"206\",\"No difference\"\\n\"207\",\"No difference\"\\n\"208\",\"No difference\"\\n\"209\",\"No difference\"\\n\"210\",\"No difference\"\\n\"211\",\"No difference\"\\n\"212\",\"No difference\"\\n\"213\",\"No difference\"\\n\"214\",\"No difference\"\\n\"215\",\"No difference\"\\n\"216\",\"No difference\"\\n\"217\",\"No difference\"\\n\"218\",\"No difference\"\\n\"219\",\"No difference\"\\n\"220\",\"No difference\"\\n\"221\",\"No difference\"\\n\"222\",\"No difference\"\\n\"223\",\"No difference\"\\n\"224\",\"No difference\"\\n\"225\",\"No difference\"\\n\"226\",\"No difference\"\\n\"227\",\"No difference\"\\n\"228\",\"No difference\"\\n\"229\",\"No difference\"\\n\"230\",\"No difference\"\\n\"231\",\"No difference\"\\n\"232\",\"No difference\"\\n\"233\",\"No difference\"\\n\"234\",\"No difference\"\\n\"235\",\"No difference\"\\n\"236\",\"No difference\"\\n\"237\",\"No difference\"\\n\"238\",\"No difference\"\\n\"239\",\"No difference\"\\n\"240\",\"No difference\"\\n\"241\",\"No difference\"\\n\"242\",\"No difference\"\\n\"243\",\"No difference\"\\n\"244\",\"No difference\"\\n\"245\",\"No difference\"\\n\"246\",\"No difference\"\\n\"247\",\"No difference\"\\n\"248\",\"No difference\"\\n\"249\",\"No difference\"\\n\"250\",\"No difference\"\\n\"251\",\"No difference\"\\n\"252\",\"No difference\"\\n\"253\",\"No difference\"\\n\"254\",\"No difference\"\\n\"255\",\"No difference\"\\n\"256\",\"No difference\"\\n\"257\",\"No difference\"\\n\"258\",\"No difference\"\\n\"259\",\"No difference\"\\n\"260\",\"No difference\"\\n\"261\",\"No difference\"\\n\"262\",\"No difference\"\\n\"263\",\"No difference\"\\n\"264\",\"No difference\"\\n\"265\",\"No difference\"\\n\"266\",\"No difference\"\\n\"267\",\"No difference\"\\n\"268\",\"No difference\"\\n\"269\",\"No difference\"\\n\"270\",\"No difference\"\\n\"271\",\"No difference\"\\n\"272\",\"No difference\"\\n\"273\",\"No difference\"\\n\"274\",\"No difference\"\\n\"275\",\"No difference\"\\n\"276\",\"No difference\"\\n\"277\",\"No difference\"\\n\"278\",\"No difference\"\\n\"279\",\"No difference\"\\n\"280\",\"No difference\"\\n\"281\",\"No difference\"\\n\"282\",\"No difference\"\\n\"283\",\"No difference\"\\n\"284\",\"No difference\"\\n\"285\",\"No difference\"\\n\"286\",\"No difference\"\\n\"287\",\"No difference\"\\n\"288\",\"No difference\"\\n\"289\",\"No difference\"\\n\"290\",\"No difference\"\\n\"291\",\"No difference\"\\n\"292\",\"No difference\"\\n\"293\",\"No difference\"\\n\"294\",\"No difference\"\\n\"295\",\"No difference\"\\n\"296\",\"No difference\"\\n\"297\",\"No difference\"\\n\"298\",\"No difference\"\\n\"299\",\"No difference\"\\n\"300\",\"No difference\"\\n\"301\",\"No difference\"\\n\"302\",\"No difference\"\\n\"303\",\"No difference\"\\n\"304\",\"No difference\"\\n\"305\",\"No difference\"\\n\"306\",\"No difference\"\\n\"307\",\"No difference\"\\n\"308\",\"No difference\"\\n\"309\",\"No difference\"\\n\"310\",\"No difference\"\\n\"311\",\"No difference\"\\n\"312\",\"No difference\"\\n\"313\",\"No difference\"\\n\"314\",\"No difference\"\\n\"315\",\"No difference\"\\n\"316\",\"No difference\"\\n\"317\",\"No difference\"\\n\"318\",\"No difference\"\\n\"319\",\"No difference\"\\n\"320\",\"No difference\"\\n\"321\",\"No difference\"\\n\"322\",\"No difference\"\\n\"323\",\"No difference\"\\n\"324\",\"No difference\"\\n\"325\",\"No difference\"\\n\"326\",\"No difference\"\\n\"327\",\"No difference\"\\n\"328\",\"No difference\"\\n\"329\",\"No difference\"\\n\"330\",\"No difference\"\\n\"331\",\"No difference\"\\n\"332\",\"No difference\"\\n\"333\",\"No difference\"\\n\"334\",\"No difference\"\\n\"335\",\"No difference\"\\n\"336\",\"No difference\"\\n\"337\",\"No difference\"\\n\"338\",\"No difference\"\\n\"339\",\"No difference\"\\n\"340\",\"No difference\"\\n\"341\",\"No difference\"\\n\"342\",\"No difference\"\\n\"343\",\"No difference\"\\n\"344\",\"No difference\"\\n\"345\",\"No difference\"\\n\"346\",\"No difference\"\\n\"347\",\"No difference\"\\n\"348\",\"No difference\"\\n\"349\",\"No difference\"\\n\"350\",\"No difference\"\\n\"351\",\"No difference\"\\n\"352\",\"No difference\"\\n\"353\",\"No difference\"\\n\"354\",\"No difference\"\\n\"355\",\"No difference\"\\n\"356\",\"No difference\"\\n\"357\",\"No difference\"\\n\"358\",\"No difference\"\\n\"359\",\"No difference\"\\n\"360\",\"No difference\"\\n\"361\",\"No difference\"\\n\"362\",\"No difference\"\\n\"363\",\"No difference\"\\n\"364\",\"No difference\"\\n\"365\",\"No difference\"\\n\"366\",\"No difference\"\\n\"367\",\"No difference\"\\n\"368\",\"No difference\"\\n\"369\",\"No difference\"\\n\"370\",\"No difference\"\\n\"371\",\"No difference\"\\n\"372\",\"No difference\"\\n\"373\",\"No difference\"\\n\"374\",\"No difference\"\\n\"375\",\"No difference\"\\n\"376\",\"No difference\"\\n\"377\",\"No difference\"\\n\"378\",\"No difference\"\\n\"379\",\"No difference\"\\n\"380\",\"No difference\"\\n\"381\",\"No difference\"\\n\"382\",\"No difference\"\\n\"383\",\"No difference\"\\n\"384\",\"No difference\"\\n\"385\",\"No difference\"\\n\"386\",\"No difference\"\\n\"387\",\"No difference\"\\n\"388\",\"No difference\"\\n\"389\",\"No difference\"\\n\"390\",\"No difference\"\\n\"391\",\"No difference\"\\n\"392\",\"No difference\"\\n\"393\",\"No difference\"\\n\"394\",\"No difference\"\\n\"395\",\"No difference\"\\n\"396\",\"No difference\"\\n\"397\",\"No difference\"\\n\"398\",\"No difference\"\\n\"399\",\"No difference\"\\n\"400\",\"No difference\"\\n\"401\",\"No difference\"\\n\"402\",\"No difference\"\\n\"403\",\"No difference\"\\n\"404\",\"No difference\"\\n\"405\",\"No difference\"\\n\"406\",\"No difference\"\\n\"407\",\"No difference\"\\n\"408\",\"No difference\"\\n\"409\",\"No difference\"\\n\"410\",\"No difference\"\\n\"411\",\"No difference\"\\n\"412\",\"No difference\"\\n\"413\",\"No difference\"\\n\"414\",\"No difference\"\\n\"415\",\"No difference\"\\n\"416\",\"No difference\"\\n\"417\",\"No difference\"\\n\"418\",\"No difference\"\\n\"419\",\"No difference\"\\n\"420\",\"No difference\"\\n\"421\",\"No difference\"\\n\"422\",\"No difference\"\\n\"423\",\"No difference\"\\n\"424\",\"No difference\"\\n\"425\",\"No difference\"\\n\"426\",\"No difference\"\\n\"427\",\"No difference\"\\n\"428\",\"No difference\"\\n\"429\",\"No difference\"\\n\"430\",\"No difference\"\\n\"431\",\"No difference\"\\n\"432\",\"No difference\"\\n\"433\",\"No difference\"\\n\"434\",\"No difference\"\\n\"435\",\"No difference\"\\n\"436\",\"No difference\"\\n\"437\",\"No difference\"\\n\"438\",\"No difference\"\\n\"439\",\"No difference\"\\n\"440\",\"No difference\"\\n\"441\",\"No difference\"\\n\"442\",\"No difference\"\\n\"443\",\"No difference\"\\n\"444\",\"No difference\"\\n\"445\",\"No difference\"\\n\"446\",\"No difference\"\\n\"447\",\"No difference\"\\n\"448\",\"No difference\"\\n\"449\",\"No difference\"\\n\"450\",\"No difference\"\\n\"451\",\"No difference\"\\n\"452\",\"No difference\"\\n\"453\",\"No difference\"\\n\"454\",\"No difference\"\\n\"455\",\"No difference\"\\n\"456\",\"No difference\"\\n\"457\",\"No difference\"\\n\"458\",\"No difference\"\\n\"459\",\"No difference\"\\n\"460\",\"No difference\"\\n\"461\",\"No difference\"\\n\"462\",\"No difference\"\\n\"463\",\"No difference\"\\n\"464\",\"No difference\"\\n\"465\",\"No difference\"\\n\"466\",\"No difference\"\\n\"467\",\"No difference\"\\n\"468\",\"No difference\"\\n\"469\",\"No difference\"\\n\"470\",\"No difference\"\\n\"471\",\"No difference\"\\n\"472\",\"No difference\"\\n\"473\",\"No difference\"\\n\"474\",\"No difference\"\\n\"475\",\"No difference\"\\n\"476\",\"No difference\"\\n\"477\",\"No difference\"\\n\"478\",\"No difference\"\\n\"479\",\"No difference\"\\n\"480\",\"No difference\"\\n\"481\",\"No difference\"\\n\"482\",\"No difference\"\\n\"483\",\"No difference\"\\n\"484\",\"No difference\"\\n\"485\",\"No difference\"\\n\"486\",\"No difference\"\\n\"487\",\"No difference\"\\n\"488\",\"No difference\"\\n\"489\",\"No difference\"\\n\"490\",\"No difference\"\\n\"491\",\"No difference\"\\n\"492\",\"No difference\"\\n\"493\",\"No difference\"\\n\"494\",\"No difference\"\\n\"495\",\"No difference\"\\n\"496\",\"No difference\"\\n\"497\",\"No difference\"\\n\"498\",\"No difference\"\\n\"499\",\"No difference\"\\n\"500\",\"No difference\"\\n\"501\",\"No difference\"\\n\"502\",\"No difference\"\\n\"503\",\"No difference\"\\n\"504\",\"No difference\"\\n\"505\",\"No difference\"\\n\"506\",\"No difference\"\\n\"507\",\"No difference\"\\n\"508\",\"No difference\"\\n\"509\",\"No difference\"\\n\"510\",\"No difference\"\\n\"511\",\"No difference\"\\n\"512\",\"No difference\"\\n\"513\",\"No difference\"\\n\"514\",\"No difference\"\\n\"515\",\"No difference\"\\n\"516\",\"No difference\"\\n\"517\",\"No difference\"\\n\"518\",\"No difference\"\\n\"519\",\"No difference\"\\n\"520\",\"No difference\"\\n\"521\",\"No difference\"\\n\"522\",\"No difference\"\\n\"523\",\"No difference\"\\n\"524\",\"No difference\"\\n\"525\",\"No difference\"\\n\"526\",\"No difference\"\\n\"527\",\"No difference\"\\n\"528\",\"No difference\"\\n\"529\",\"No difference\"\\n\"530\",\"No difference\"\\n\"531\",\"No difference\"\\n\"532\",\"No difference\"\\n\"533\",\"No difference\"\\n\"534\",\"No difference\"\\n\"535\",\"No difference\"\\n\"536\",\"No difference\"\\n\"537\",\"No difference\"\\n\"538\",\"No difference\"\\n\"539\",\"No difference\"\\n\"540\",\"No difference\"\\n\"541\",\"No difference\"\\n\"542\",\"No difference\"\\n\"543\",\"No difference\"\\n\"544\",\"No difference\"\\n\"545\",\"No difference\"\\n\"546\",\"No difference\"\\n\"547\",\"No difference\"\\n\"548\",\"No difference\"\\n\"549\",\"No difference\"\\n\"550\",\"No difference\"\\n\"551\",\"No difference\"\\n\"552\",\"No difference\"\\n\"553\",\"No difference\"\\n\"554\",\"No difference\"\\n\"555\",\"No difference\"\\n\"556\",\"No difference\"\\n\"557\",\"No difference\"\\n\"558\",\"No difference\"\\n\"559\",\"No difference\"\\n\"560\",\"No difference\"\\n\"561\",\"No difference\"\\n\"562\",\"No difference\"\\n\"563\",\"No difference\"\\n\"564\",\"No difference\"\\n\"565\",\"No difference\"\\n\"566\",\"No difference\"\\n\"567\",\"No difference\"\\n\"568\",\"No difference\"\\n\"569\",\"No difference\"\\n\"570\",\"No difference\"\\n\"571\",\"No difference\"\\n\"572\",\"No difference\"\\n\"573\",\"No difference\"\\n\"574\",\"No difference\"\\n\"575\",\"No difference\"\\n\"576\",\"No difference\"\\n\"577\",\"No difference\"\\n\"578\",\"No difference\"\\n\"579\",\"No difference\"\\n\"580\",\"No difference\"\\n\"581\",\"No difference\"\\n\"582\",\"No difference\"\\n\"583\",\"No difference\"\\n\"584\",\"No difference\"\\n\"585\",\"No difference\"\\n\"586\",\"No difference\"\\n\"587\",\"No difference\"\\n\"588\",\"No difference\"\\n\"589\",\"No difference\"\\n\"590\",\"No difference\"\\n\"591\",\"No difference\"\\n\"592\",\"No difference\"\\n\"593\",\"No difference\"\\n\"594\",\"No difference\"\\n\"595\",\"No difference\"\\n\"596\",\"No difference\"\\n\"597\",\"No difference\"\\n\"598\",\"No difference\"\\n\"599\",\"No difference\"\\n\"600\",\"No difference\"\\n\"601\",\"No difference\"\\n\"602\",\"No difference\"\\n\"603\",\"Opposite sex\"\\n\"604\",\"Opposite sex\"\\n\"605\",\"Opposite sex\"\\n\"606\",\"Opposite sex\"\\n\"607\",\"Opposite sex\"\\n\"608\",\"Opposite sex\"\\n\"609\",\"Opposite sex\"\\n\"610\",\"Opposite sex\"\\n\"611\",\"Opposite sex\"\\n\"612\",\"Opposite sex\"\\n\"613\",\"Opposite sex\"\\n\"614\",\"Opposite sex\"\\n\"615\",\"Opposite sex\"\\n\"616\",\"Opposite sex\"\\n\"617\",\"Opposite sex\"\\n\"618\",\"Opposite sex\"\\n\"619\",\"Opposite sex\"\\n\"620\",\"Opposite sex\"\\n\"621\",\"Opposite sex\"\\n\"622\",\"Opposite sex\"\\n\"623\",\"Opposite sex\"\\n\"624\",\"Opposite sex\"\\n\"625\",\"Opposite sex\"\\n\"626\",\"Opposite sex\"\\n\"627\",\"Opposite sex\"\\n\"628\",\"Opposite sex\"\\n\"629\",\"Opposite sex\"\\n\"630\",\"Opposite sex\"\\n\"631\",\"Opposite sex\"\\n\"632\",\"Opposite sex\"\\n\"633\",\"Opposite sex\"\\n\"634\",\"Opposite sex\"\\n\"635\",\"Opposite sex\"\\n\"636\",\"Opposite sex\"\\n\"637\",\"Opposite sex\"\\n\"638\",\"Opposite sex\"\\n\"639\",\"Opposite sex\"\\n\"640\",\"Opposite sex\"\\n\"641\",\"Opposite sex\"\\n\"642\",\"Opposite sex\"\\n\"643\",\"Opposite sex\"\\n\"644\",\"Opposite sex\"\\n\"645\",\"Opposite sex\"\\n\"646\",\"Opposite sex\"\\n\"647\",\"Opposite sex\"\\n\"648\",\"Opposite sex\"\\n\"649\",\"Opposite sex\"\\n\"650\",\"Opposite sex\"\\n\"651\",\"Opposite sex\"\\n\"652\",\"Opposite sex\"\\n\"653\",\"Opposite sex\"\\n\"654\",\"Opposite sex\"\\n\"655\",\"Opposite sex\"\\n\"656\",\"Opposite sex\"\\n\"657\",\"Opposite sex\"\\n\"658\",\"Opposite sex\"\\n\"659\",\"Opposite sex\"\\n\"660\",\"Opposite sex\"\\n\"661\",\"Opposite sex\"\\n\"662\",\"Opposite sex\"\\n\"663\",\"Opposite sex\"\\n\"664\",\"Opposite sex\"\\n\"665\",\"Opposite sex\"\\n\"666\",\"Opposite sex\"\\n\"667\",\"Opposite sex\"\\n\"668\",\"Opposite sex\"\\n\"669\",\"Opposite sex\"\\n\"670\",\"Opposite sex\"\\n\"671\",\"Opposite sex\"\\n\"672\",\"Opposite sex\"\\n\"673\",\"Opposite sex\"\\n\"674\",\"Opposite sex\"\\n\"675\",\"Opposite sex\"\\n\"676\",\"Opposite sex\"\\n\"677\",\"Opposite sex\"\\n\"678\",\"Opposite sex\"\\n\"679\",\"Opposite sex\"\\n\"680\",\"Opposite sex\"\\n\"681\",\"Opposite sex\"\\n\"682\",\"Opposite sex\"\\n\"683\",\"Opposite sex\"\\n\"684\",\"Opposite sex\"\\n\"685\",\"Opposite sex\"\\n\"686\",\"Opposite sex\"\\n\"687\",\"Opposite sex\"\\n\"688\",\"Opposite sex\"\\n\"689\",\"Opposite sex\"\\n\"690\",\"Opposite sex\"\\n\"691\",\"Opposite sex\"\\n\"692\",\"Opposite sex\"\\n\"693\",\"Opposite sex\"\\n\"694\",\"Opposite sex\"\\n\"695\",\"Opposite sex\"\\n\"696\",\"Opposite sex\"\\n\"697\",\"Opposite sex\"\\n\"698\",\"Opposite sex\"\\n\"699\",\"Opposite sex\"\\n\"700\",\"Opposite sex\"\\n\"701\",\"Opposite sex\"\\n\"702\",\"Opposite sex\"\\n\"703\",\"Opposite sex\"\\n\"704\",\"Opposite sex\"\\n\"705\",\"Opposite sex\"\\n\"706\",\"Opposite sex\"\\n\"707\",\"Opposite sex\"\\n\"708\",\"Opposite sex\"\\n\"709\",\"Opposite sex\"\\n\"710\",\"Opposite sex\"\\n\"711\",\"Opposite sex\"\\n\"712\",\"Opposite sex\"\\n\"713\",\"Opposite sex\"\\n\"714\",\"Opposite sex\"\\n\"715\",\"Opposite sex\"\\n\"716\",\"Opposite sex\"\\n\"717\",\"Opposite sex\"\\n\"718\",\"Opposite sex\"\\n\"719\",\"Opposite sex\"\\n\"720\",\"Opposite sex\"\\n\"721\",\"Opposite sex\"\\n\"722\",\"Opposite sex\"\\n\"723\",\"Opposite sex\"\\n\"724\",\"Opposite sex\"\\n\"725\",\"Opposite sex\"\\n\"726\",\"Opposite sex\"\\n\"727\",\"Opposite sex\"\\n\"728\",\"Opposite sex\"\\n\"729\",\"Opposite sex\"\\n\"730\",\"Opposite sex\"\\n\"731\",\"Opposite sex\"\\n\"732\",\"Opposite sex\"\\n\"733\",\"Opposite sex\"\\n\"734\",\"Opposite sex\"\\n\"735\",\"Opposite sex\"\\n\"736\",\"Opposite sex\"\\n\"737\",\"Opposite sex\"\\n\"738\",\"Opposite sex\"\\n\"739\",\"Opposite sex\"\\n\"740\",\"Opposite sex\"\\n\"741\",\"Opposite sex\"\\n\"742\",\"Opposite sex\"\\n\"743\",\"Opposite sex\"\\n\"744\",\"Opposite sex\"\\n\"745\",\"Opposite sex\"\\n\"746\",\"Opposite sex\"\\n\"747\",\"Opposite sex\"\\n\"748\",\"Opposite sex\"\\n\"749\",\"Opposite sex\"\\n\"750\",\"Opposite sex\"\\n\"751\",\"Opposite sex\"\\n\"752\",\"Opposite sex\"\\n\"753\",\"Opposite sex\"\\n\"754\",\"Opposite sex\"\\n\"755\",\"Opposite sex\"\\n\"756\",\"Opposite sex\"\\n\"757\",\"Opposite sex\"\\n\"758\",\"Opposite sex\"\\n\"759\",\"Opposite sex\"\\n\"760\",\"Opposite sex\"\\n\"761\",\"Opposite sex\"\\n\"762\",\"Opposite sex\"\\n\"763\",\"Opposite sex\"\\n\"764\",\"Opposite sex\"\\n\"765\",\"Opposite sex\"\\n\"766\",\"Opposite sex\"\\n\"767\",\"Opposite sex\"\\n\"768\",\"Opposite sex\"\\n\"769\",\"Opposite sex\"\\n\"770\",\"Opposite sex\"\\n\"771\",\"Opposite sex\"\\n\"772\",\"Opposite sex\"\\n\"773\",\"Opposite sex\"\\n\"774\",\"Opposite sex\"\\n\"775\",\"Opposite sex\"\\n\"776\",\"Opposite sex\"\\n\"777\",\"Opposite sex\"\\n\"778\",\"Opposite sex\"\\n\"779\",\"Opposite sex\"\\n\"780\",\"Opposite sex\"\\n\"781\",\"Opposite sex\"\\n\"782\",\"Opposite sex\"\\n\"783\",\"Opposite sex\"\\n\"784\",\"Opposite sex\"\\n\"785\",\"Opposite sex\"\\n\"786\",\"Opposite sex\"\\n\"787\",\"Opposite sex\"\\n\"788\",\"Opposite sex\"\\n\"789\",\"Opposite sex\"\\n\"790\",\"Opposite sex\"\\n\"791\",\"Opposite sex\"\\n\"792\",\"Opposite sex\"\\n\"793\",\"Opposite sex\"\\n\"794\",\"Opposite sex\"\\n\"795\",\"Opposite sex\"\\n\"796\",\"Opposite sex\"\\n\"797\",\"Opposite sex\"\\n\"798\",\"Opposite sex\"\\n\"799\",\"Opposite sex\"\\n\"800\",\"Opposite sex\"\\n\"801\",\"Opposite sex\"\\n\"802\",\"Opposite sex\"\\n\"803\",\"Opposite sex\"\\n\"804\",\"Opposite sex\"\\n\"805\",\"Opposite sex\"\\n\"806\",\"Opposite sex\"\\n\"807\",\"Opposite sex\"\\n\"808\",\"Opposite sex\"\\n\"809\",\"Opposite sex\"\\n\"810\",\"Opposite sex\"\\n\"811\",\"Opposite sex\"\\n\"812\",\"Opposite sex\"\\n\"813\",\"Opposite sex\"\\n\"814\",\"Opposite sex\"\\n\"815\",\"Opposite sex\"\\n\"816\",\"Opposite sex\"\\n\"817\",\"Opposite sex\"\\n\"818\",\"Opposite sex\"\\n\"819\",\"Opposite sex\"\\n\"820\",\"Opposite sex\"\\n\"821\",\"Opposite sex\"\\n\"822\",\"Opposite sex\"\\n\"823\",\"Opposite sex\"\\n\"824\",\"Opposite sex\"\\n\"825\",\"Opposite sex\"\\n\"826\",\"Opposite sex\"\\n\"827\",\"Opposite sex\"\\n\"828\",\"Opposite sex\"\\n\"829\",\"Opposite sex\"\\n\"830\",\"Opposite sex\"\\n\"831\",\"Opposite sex\"\\n\"832\",\"Opposite sex\"\\n\"833\",\"Opposite sex\"\\n\"834\",\"Opposite sex\"\\n\"835\",\"Opposite sex\"\\n\"836\",\"Opposite sex\"\\n\"837\",\"Opposite sex\"\\n\"838\",\"Opposite sex\"\\n\"839\",\"Opposite sex\"\\n\"840\",\"Opposite sex\"\\n\"841\",\"Opposite sex\"\\n\"842\",\"Opposite sex\"\\n\"843\",\"Opposite sex\"\\n\"844\",\"Opposite sex\"\\n\"845\",\"Opposite sex\"\\n\"846\",\"Opposite sex\"\\n\"847\",\"Opposite sex\"\\n\"848\",\"Opposite sex\"\\n\"849\",\"Opposite sex\"\\n\"850\",\"Opposite sex\"\\n\"851\",\"Opposite sex\"\\n\"852\",\"Opposite sex\"\\n\"853\",\"Opposite sex\"\\n\"854\",\"Opposite sex\"\\n\"855\",\"Opposite sex\"\\n\"856\",\"Opposite sex\"\\n\"857\",\"Opposite sex\"\\n\"858\",\"Opposite sex\"\\n\"859\",\"Opposite sex\"\\n\"860\",\"Opposite sex\"\\n\"861\",\"Opposite sex\"\\n\"862\",\"Opposite sex\"\\n\"863\",\"Opposite sex\"\\n\"864\",\"Opposite sex\"\\n\"865\",\"Opposite sex\"\\n\"866\",\"Opposite sex\"\\n\"867\",\"Opposite sex\"\\n\"868\",\"Opposite sex\"\\n\"869\",\"Opposite sex\"\\n\"870\",\"Opposite sex\"\\n\"871\",\"Opposite sex\"\\n\"872\",\"Opposite sex\"\\n\"873\",\"Opposite sex\"\\n\"874\",\"Opposite sex\"\\n\"875\",\"Opposite sex\"\\n\"876\",\"Opposite sex\"\\n\"877\",\"Opposite sex\"\\n\"878\",\"Opposite sex\"\\n\"879\",\"Opposite sex\"\\n\"880\",\"Opposite sex\"\\n\"881\",\"Opposite sex\"\\n\"882\",\"Opposite sex\"\\n\"883\",\"Opposite sex\"\\n\"884\",\"Opposite sex\"\\n\"885\",\"Opposite sex\"\\n\"886\",\"Opposite sex\"\\n\"887\",\"Opposite sex\"\\n\"888\",\"Opposite sex\"\\n\"889\",\"Opposite sex\"\\n\"890\",\"Opposite sex\"\\n\"891\",\"Opposite sex\"\\n\"892\",\"Opposite sex\"\\n\"893\",\"Opposite sex\"\\n\"894\",\"Opposite sex\"\\n\"895\",\"Opposite sex\"\\n\"896\",\"Opposite sex\"\\n\"897\",\"Opposite sex\"\\n\"898\",\"Opposite sex\"\\n\"899\",\"Opposite sex\"\\n\"900\",\"Opposite sex\"\\n\"901\",\"Opposite sex\"\\n\"902\",\"Opposite sex\"\\n\"903\",\"Opposite sex\"\\n\"904\",\"Opposite sex\"\\n\"905\",\"Opposite sex\"\\n\"906\",\"Opposite sex\"\\n\"907\",\"Opposite sex\"\\n\"908\",\"Opposite sex\"\\n\"909\",\"Opposite sex\"\\n\"910\",\"Opposite sex\"\\n\"911\",\"Opposite sex\"\\n\"912\",\"Opposite sex\"\\n\"913\",\"Opposite sex\"\\n\"914\",\"Opposite sex\"\\n\"915\",\"Opposite sex\"\\n\"916\",\"Opposite sex\"\\n\"917\",\"Opposite sex\"\\n\"918\",\"Opposite sex\"\\n\"919\",\"Opposite sex\"\\n\"920\",\"Opposite sex\"\\n\"921\",\"Opposite sex\"\\n\"922\",\"Opposite sex\"\\n\"923\",\"Opposite sex\"\\n\"924\",\"Opposite sex\"\\n\"925\",\"Opposite sex\"\\n\"926\",\"Opposite sex\"\\n\"927\",\"Opposite sex\"\\n\"928\",\"Opposite sex\"\\n\"929\",\"Opposite sex\"\\n\"930\",\"Opposite sex\"\\n\"931\",\"Opposite sex\"\\n\"932\",\"Opposite sex\"\\n\"933\",\"Opposite sex\"\\n\"934\",\"Opposite sex\"\\n\"935\",\"Opposite sex\"\\n\"936\",\"Opposite sex\"\\n\"937\",\"Opposite sex\"\\n\"938\",\"Opposite sex\"\\n\"939\",\"Opposite sex\"\\n\"940\",\"Opposite sex\"\\n\"941\",\"Opposite sex\"\\n\"942\",\"Opposite sex\"\\n\"943\",\"Opposite sex\"\\n\"944\",\"Opposite sex\"\\n\"945\",\"Opposite sex\"\\n\"946\",\"Opposite sex\"\\n\"947\",\"Opposite sex\"\\n\"948\",\"Opposite sex\"\\n\"949\",\"Opposite sex\"\\n\"950\",\"Opposite sex\"\\n\"951\",\"Opposite sex\"\\n\"952\",\"Opposite sex\"\\n\"953\",\"Opposite sex\"\\n\"954\",\"Opposite sex\"\\n\"955\",\"Opposite sex\"\\n\"956\",\"Opposite sex\"\\n\"957\",\"Opposite sex\"\\n\"958\",\"Opposite sex\"\\n\"959\",\"Opposite sex\"\\n\"960\",\"Opposite sex\"\\n\"961\",\"Opposite sex\"\\n\"962\",\"Opposite sex\"\\n\"963\",\"Opposite sex\"\\n\"964\",\"Opposite sex\"\\n\"965\",\"Opposite sex\"\\n\"966\",\"Opposite sex\"\\n\"967\",\"Opposite sex\"\\n\"968\",\"Opposite sex\"\\n\"969\",\"Opposite sex\"\\n\"970\",\"Opposite sex\"\\n\"971\",\"Opposite sex\"\\n\"972\",\"Opposite sex\"\\n\"973\",\"Opposite sex\"\\n\"974\",\"Opposite sex\"\\n\"975\",\"Opposite sex\"\\n\"976\",\"Opposite sex\"\\n\"977\",\"Opposite sex\"\\n\"978\",\"Opposite sex\"\\n\"979\",\"Opposite sex\"\\n\"980\",\"Opposite sex\"\\n\"981\",\"Opposite sex\"\\n\"982\",\"Opposite sex\"\\n\"983\",\"Opposite sex\"\\n\"984\",\"Opposite sex\"\\n\"985\",\"Opposite sex\"\\n\"986\",\"Opposite sex\"\\n\"987\",\"Opposite sex\"\\n\"988\",\"Opposite sex\"\\n\"989\",\"Opposite sex\"\\n\"990\",\"Opposite sex\"\\n\"991\",\"Opposite sex\"\\n\"992\",\"Opposite sex\"\\n\"993\",\"Opposite sex\"\\n\"994\",\"Opposite sex\"\\n\"995\",\"Opposite sex\"\\n\"996\",\"Opposite sex\"\\n\"997\",\"Opposite sex\"\\n\"998\",\"Opposite sex\"\\n\"999\",\"Opposite sex\"\\n\"1000\",\"Opposite sex\"\\n\"1001\",\"Opposite sex\"\\n\"1002\",\"Opposite sex\"\\n\"1003\",\"Opposite sex\"\\n\"1004\",\"Opposite sex\"\\n\"1005\",\"Opposite sex\"\\n\"1006\",\"Opposite sex\"\\n\"1007\",\"Opposite sex\"\\n\"1008\",\"Opposite sex\"\\n\"1009\",\"Opposite sex\"\\n\"1010\",\"Opposite sex\"\\n\"1011\",\"Opposite sex\"\\n\"1012\",\"Opposite sex\"\\n\"1013\",\"Opposite sex\"\\n\"1014\",\"Opposite sex\"\\n\"1015\",\"Opposite sex\"\\n\"1016\",\"Opposite sex\"\\n\"1017\",\"Opposite sex\"\\n\"1018\",\"Opposite sex\"\\n\"1019\",\"Opposite sex\"\\n\"1020\",\"Opposite sex\"\\n\"1021\",\"Opposite sex\"\\n\"1022\",\"Opposite sex\"\\n\"1023\",\"Opposite sex\"\\n\"1024\",\"Opposite sex\"\\n\"1025\",\"Opposite sex\"\\n\"1026\",\"Opposite sex\"\\n\"1027\",\"Opposite sex\"\\n\"1028\",\"Opposite sex\"\\n\"1029\",\"Opposite sex\"\\n\"1030\",\"Opposite sex\"\\n\"1031\",\"Opposite sex\"\\n\"1032\",\"Opposite sex\"\\n\"1033\",\"Opposite sex\"\\n\"1034\",\"Opposite sex\"\\n\"1035\",\"Opposite sex\"\\n\"1036\",\"Opposite sex\"\\n\"1037\",\"Same sex\"\\n\"1038\",\"Same sex\"\\n\"1039\",\"Same sex\"\\n\"1040\",\"Same sex\"\\n\"1041\",\"Same sex\"\\n\"1042\",\"Same sex\"\\n\"1043\",\"Same sex\"\\n\"1044\",\"Same sex\"\\n\"1045\",\"Same sex\"\\n\"1046\",\"Same sex\"\\n\"1047\",\"Same sex\"\\n\"1048\",\"Same sex\"\\n\"1049\",\"Same sex\"\\n\"1050\",\"Same sex\"\\n\"1051\",\"Same sex\"\\n\"1052\",\"Same sex\"\\n\"1053\",\"Same sex\"\\n\"1054\",\"Same sex\"\\n\"1055\",\"Same sex\"\\n\"1056\",\"Same sex\"\\n\"1057\",\"Same sex\"\\n\"1058\",\"Same sex\"\\n\"1059\",\"Same sex\"\\n\"1060\",\"Same sex\"\\n\"1061\",\"Same sex\"\\n\"1062\",\"Same sex\"\\n\"1063\",\"Same sex\"\\n\"1064\",\"Same sex\"\\n\"1065\",\"Same sex\"\\n\"1066\",\"Same sex\"\\n\"1067\",\"Same sex\"\\n\"1068\",\"Same sex\"\\n\"1069\",\"Same sex\"\\n\"1070\",\"Same sex\"\\n\"1071\",\"Same sex\"\\n\"1072\",\"Same sex\"\\n\"1073\",\"Same sex\"\\n\"1074\",\"Same sex\"\\n\"1075\",\"Same sex\"\\n\"1076\",\"Same sex\"\\n\"1077\",\"Same sex\"\\n\"1078\",\"Same sex\"\\n\"1079\",\"Same sex\"\\n\"1080\",\"Same sex\"\\n\"1081\",\"Same sex\"\\n\"1082\",\"Same sex\"\\n\"1083\",\"Same sex\"\\n\"1084\",\"Same sex\"\\n\"1085\",\"Same sex\"\\n\"1086\",\"Same sex\"\\n\"1087\",\"Same sex\"\\n\"1088\",\"Same sex\"\\n\"1089\",\"Same sex\"\\n\"1090\",\"Same sex\"\\n\"1091\",\"Same sex\"\\n\"1092\",\"Same sex\"\\n\"1093\",\"Same sex\"\\n\"1094\",\"Same sex\"\\n\"1095\",\"Same sex\"\\n\"1096\",\"Same sex\"\\n\"1097\",\"Same sex\"\\n\"1098\",\"Same sex\"\\n\"1099\",\"Same sex\"\\n\"1100\",\"Same sex\"\\n\"1101\",\"Same sex\"\\n\"1102\",\"Same sex\"\\n\"1103\",\"Same sex\"\\n\"1104\",\"Same sex\"\\n\"1105\",\"Same sex\"\\n\"1106\",\"Same sex\"\\n\"1107\",\"Same sex\"\\n\"1108\",\"Same sex\"\\n\"1109\",\"Same sex\"\\n\"1110\",\"Same sex\"\\n\"1111\",\"Same sex\"\\n\"1112\",\"Same sex\"\\n\"1113\",\"Same sex\"\\n\"1114\",\"Same sex\"\\n\"1115\",\"Same sex\"\\n\"1116\",\"Same sex\"\\n\"1117\",\"Same sex\"\\n\"1118\",\"Same sex\"\\n\"1119\",\"Same sex\"\\n\"1120\",\"Same sex\"\\n\"1121\",\"Same sex\"\\n\"1122\",\"Same sex\"\\n\"1123\",\"Same sex\"\\n\"1124\",\"Same sex\"\\n\"1125\",\"Same sex\"\\n\"1126\",\"Same sex\"\\n\"1127\",\"Same sex\"\\n\"1128\",\"Same sex\"\\n\"1129\",\"Same sex\"\\n\"1130\",\"Same sex\"\\n\"1131\",\"Same sex\"\\n\"1132\",\"Same sex\"\\n\"1133\",\"Same sex\"\\n\"1134\",\"Same sex\"\\n\"1135\",\"Same sex\"\\n\"1136\",\"Same sex\"\\n\"1137\",\"Same sex\"\\n\"1138\",\"Same sex\"\\n\"1139\",\"Same sex\"\\n\"1140\",\"Same sex\"\\n\"1141\",\"Same sex\"\\n\"1142\",\"Same sex\"\\n\"1143\",\"Same sex\"\\n\"1144\",\"Same sex\"\\n\"1145\",\"Same sex\"\\n\"1146\",\"Same sex\"\\n\"1147\",\"Same sex\"\\n\"1148\",\"Same sex\"\\n\"1149\",\"Same sex\"\\n\"1150\",\"Same sex\"\\n\"1151\",\"Same sex\"\\n\"1152\",\"Same sex\"\\n\"1153\",\"Same sex\"\\n\"1154\",\"Same sex\"\\n\"1155\",\"Same sex\"\\n\"1156\",\"Same sex\"\\n\"1157\",\"Same sex\"\\n\"1158\",\"Same sex\"\\n\"1159\",\"Same sex\"\\n\"1160\",\"Same sex\"\\n\"1161\",\"Same sex\"\\n\"1162\",\"Same sex\"\\n\"1163\",\"Same sex\"\\n\"1164\",\"Same sex\"\\n\"1165\",\"Same sex\"\\n\"1166\",\"Same sex\"\\n\"1167\",\"Same sex\"\\n\"1168\",\"Same sex\"\\n\"1169\",\"Same sex\"\\n\"1170\",\"Same sex\"\\n\"1171\",\"Same sex\"\\n\"1172\",\"Same sex\"\\n\"1173\",\"Same sex\"\\n\"1174\",\"Same sex\"\\n\"1175\",\"Same sex\"\\n\"1176\",\"Same sex\"\\n\"1177\",\"Same sex\"\\n\"1178\",\"Same sex\"\\n\"1179\",\"Same sex\"\\n\"1180\",\"Same sex\"\\n\"1181\",\"Same sex\"\\n\"1182\",\"Same sex\"\\n\"1183\",\"Same sex\"\\n\"1184\",\"Same sex\"\\n\"1185\",\"Same sex\"\\n\"1186\",\"Same sex\"\\n\"1187\",\"Same sex\"\\n\"1188\",\"Same sex\"\\n\"1189\",\"Same sex\"\\n\"1190\",\"Same sex\"\\n\"1191\",\"Same sex\"\\n\"1192\",\"Same sex\"\\n\"1193\",\"Same sex\"\\n\"1194\",\"Same sex\"\\n\"1195\",\"Same sex\"\\n\"1196\",\"Same sex\"\\n\"1197\",\"Same sex\"\\n\"1198\",\"Same sex\"\\n\"1199\",\"Same sex\"\\n\"1200\",\"Same sex\"\\n'}"
            ]
          },
          "metadata": {
            "tags": []
          },
          "execution_count": 20
        }
      ]
    },
    {
      "cell_type": "code",
      "metadata": {
        "id": "CTfyBczATnlA",
        "colab_type": "code",
        "colab": {}
      },
      "source": [
        "f = pd.read_csv('friends.csv')"
      ],
      "execution_count": 23,
      "outputs": []
    },
    {
      "cell_type": "code",
      "metadata": {
        "id": "OjxcfDwtfLdn",
        "colab_type": "code",
        "colab": {}
      },
      "source": [
        "pd.set_option('display.max_rows', 500)"
      ],
      "execution_count": 24,
      "outputs": []
    },
    {
      "cell_type": "code",
      "metadata": {
        "id": "PBcw6fJxeEXR",
        "colab_type": "code",
        "colab": {
          "base_uri": "https://localhost:8080/",
          "height": 294
        },
        "outputId": "bb53ef7c-0490-4d3a-d4ce-fff94ace8315"
      },
      "source": [
        "f.describe()"
      ],
      "execution_count": 25,
      "outputs": [
        {
          "output_type": "execute_result",
          "data": {
            "text/html": [
              "<div>\n",
              "<style scoped>\n",
              "    .dataframe tbody tr th:only-of-type {\n",
              "        vertical-align: middle;\n",
              "    }\n",
              "\n",
              "    .dataframe tbody tr th {\n",
              "        vertical-align: top;\n",
              "    }\n",
              "\n",
              "    .dataframe thead th {\n",
              "        text-align: right;\n",
              "    }\n",
              "</style>\n",
              "<table border=\"1\" class=\"dataframe\">\n",
              "  <thead>\n",
              "    <tr style=\"text-align: right;\">\n",
              "      <th></th>\n",
              "      <th>Unnamed: 0</th>\n",
              "    </tr>\n",
              "  </thead>\n",
              "  <tbody>\n",
              "    <tr>\n",
              "      <th>count</th>\n",
              "      <td>1200.000000</td>\n",
              "    </tr>\n",
              "    <tr>\n",
              "      <th>mean</th>\n",
              "      <td>600.500000</td>\n",
              "    </tr>\n",
              "    <tr>\n",
              "      <th>std</th>\n",
              "      <td>346.554469</td>\n",
              "    </tr>\n",
              "    <tr>\n",
              "      <th>min</th>\n",
              "      <td>1.000000</td>\n",
              "    </tr>\n",
              "    <tr>\n",
              "      <th>25%</th>\n",
              "      <td>300.750000</td>\n",
              "    </tr>\n",
              "    <tr>\n",
              "      <th>50%</th>\n",
              "      <td>600.500000</td>\n",
              "    </tr>\n",
              "    <tr>\n",
              "      <th>75%</th>\n",
              "      <td>900.250000</td>\n",
              "    </tr>\n",
              "    <tr>\n",
              "      <th>max</th>\n",
              "      <td>1200.000000</td>\n",
              "    </tr>\n",
              "  </tbody>\n",
              "</table>\n",
              "</div>"
            ],
            "text/plain": [
              "        Unnamed: 0\n",
              "count  1200.000000\n",
              "mean    600.500000\n",
              "std     346.554469\n",
              "min       1.000000\n",
              "25%     300.750000\n",
              "50%     600.500000\n",
              "75%     900.250000\n",
              "max    1200.000000"
            ]
          },
          "metadata": {
            "tags": []
          },
          "execution_count": 25
        }
      ]
    },
    {
      "cell_type": "code",
      "metadata": {
        "id": "CvuO2pxXdfl5",
        "colab_type": "code",
        "colab": {
          "base_uri": "https://localhost:8080/",
          "height": 104
        },
        "outputId": "41a4500f-81f3-4a00-8c24-4730009b4141"
      },
      "source": [
        "f['Friends'].describe()"
      ],
      "execution_count": 26,
      "outputs": [
        {
          "output_type": "execute_result",
          "data": {
            "text/plain": [
              "count              1200\n",
              "unique                3\n",
              "top       No difference\n",
              "freq                602\n",
              "Name: Friends, dtype: object"
            ]
          },
          "metadata": {
            "tags": []
          },
          "execution_count": 26
        }
      ]
    },
    {
      "cell_type": "code",
      "metadata": {
        "id": "OpLVRaxadi89",
        "colab_type": "code",
        "colab": {
          "base_uri": "https://localhost:8080/",
          "height": 87
        },
        "outputId": "3d1e51ce-9b41-405f-b1a7-ecdf688bee90"
      },
      "source": [
        "f['Friends'].value_counts()"
      ],
      "execution_count": 27,
      "outputs": [
        {
          "output_type": "execute_result",
          "data": {
            "text/plain": [
              "No difference    602\n",
              "Opposite sex     434\n",
              "Same sex         164\n",
              "Name: Friends, dtype: int64"
            ]
          },
          "metadata": {
            "tags": []
          },
          "execution_count": 27
        }
      ]
    },
    {
      "cell_type": "code",
      "metadata": {
        "id": "AZJz2WpteNE4",
        "colab_type": "code",
        "colab": {
          "base_uri": "https://localhost:8080/",
          "height": 283
        },
        "outputId": "e93d1353-a652-4e4e-a01b-07dd92d6ba9a"
      },
      "source": [
        "f['Friends'].hist()"
      ],
      "execution_count": 28,
      "outputs": [
        {
          "output_type": "execute_result",
          "data": {
            "text/plain": [
              "<matplotlib.axes._subplots.AxesSubplot at 0x7fc737bc1048>"
            ]
          },
          "metadata": {
            "tags": []
          },
          "execution_count": 28
        },
        {
          "output_type": "display_data",
          "data": {
            "image/png": "[encoded data removed]",
            "text/plain": [
              "<Figure size 432x288 with 1 Axes>"
            ]
          },
          "metadata": {
            "tags": [],
            "needs_background": "light"
          }
        }
      ]
    },
    {
      "cell_type": "markdown",
      "metadata": {
        "id": "m_5lOveezT-A",
        "colab_type": "text"
      },
      "source": [
        "Q3. Describe the distribution of the variable \"friends\" in dataset - Survey that asked 1,200 U.S. college students about their body perception.\n",
        "\n",
        "Ans. \n",
        "\n",
        "     No difference    602\n",
        "\n",
        "     Opposite sex     434\n",
        "     \n",
        "     Same sex         164"
      ]
    },
    {
      "cell_type": "markdown",
      "metadata": {
        "id": "0oFmvbgnf7Xa",
        "colab_type": "text"
      },
      "source": [
        "**Actor Age**"
      ]
    },
    {
      "cell_type": "code",
      "metadata": {
        "id": "vHtQYWCnkypR",
        "colab_type": "code",
        "colab": {
          "resources": {
            "http://localhost:8080/nbextensions/google.colab/files.js": {
              "data": "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",
              "ok": true,
              "headers": [
                [
                  "content-type",
                  "application/javascript"
                ]
              ],
              "status": 200,
              "status_text": ""
            }
          },
          "base_uri": "https://localhost:8080/",
          "height": 111
        },
        "outputId": "d9feb7b9-e706-4b68-c93c-cd3fdeb643aa"
      },
      "source": [
        "from google.colab import files\n",
        "files.upload()"
      ],
      "execution_count": 29,
      "outputs": [
        {
          "output_type": "display_data",
          "data": {
            "text/html": [
              "\n",
              "     <input type=\"file\" id=\"files-3c2b823b-588f-4951-b74d-b60eb58d8bf8\" name=\"files[]\" multiple disabled\n",
              "        style=\"border:none\" />\n",
              "     <output id=\"result-3c2b823b-588f-4951-b74d-b60eb58d8bf8\">\n",
              "      Upload widget is only available when the cell has been executed in the\n",
              "      current browser session. Please rerun this cell to enable.\n",
              "      </output>\n",
              "      <script src=\"/nbextensions/google.colab/files.js\"></script> "
            ],
            "text/plain": [
              "<IPython.core.display.HTML object>"
            ]
          },
          "metadata": {
            "tags": []
          }
        },
        {
          "output_type": "stream",
          "text": [
            "Saving actor_age.csv to actor_age.csv\n"
          ],
          "name": "stdout"
        },
        {
          "output_type": "execute_result",
          "data": {
            "text/plain": [
              "{'actor_age.csv': b'\"\",\"Age\"\\n\"1\",43\\n\"2\",42\\n\"3\",48\\n\"4\",49\\n\"5\",56\\n\"6\",38\\n\"7\",60\\n\"8\",30\\n\"9\",40\\n\"10\",42\\n\"11\",37\\n\"12\",76\\n\"13\",39\\n\"14\",53\\n\"15\",45\\n\"16\",36\\n\"17\",62\\n\"18\",33\\n\"19\",51\\n\"20\",32\\n\"21\",42\\n\"22\",54\\n\"23\",52\\n\"24\",37\\n\"25\",38\\n\"26\",32\\n\"27\",45\\n\"28\",60\\n\"29\",46\\n\"30\",40\\n\"31\",36\\n\"32\",47\\n\"33\",29\\n\"34\",43\\n\"35\",37\\n\"36\",38\\n\"37\",45\\n\"38\",50\\n\"39\",48\\n\"40\",60\\n\"41\",50\\n\"42\",39\\n\"43\",55\\n\"44\",44\\n'}"
            ]
          },
          "metadata": {
            "tags": []
          },
          "execution_count": 29
        }
      ]
    },
    {
      "cell_type": "code",
      "metadata": {
        "id": "IStA_d-TgH69",
        "colab_type": "code",
        "colab": {
          "base_uri": "https://localhost:8080/",
          "height": 202
        },
        "outputId": "29f09d6a-d9c5-4746-b289-516440d390fb"
      },
      "source": [
        "a_a = pd.read_csv('actor_age.csv')\n",
        "a_a.head()"
      ],
      "execution_count": 37,
      "outputs": [
        {
          "output_type": "execute_result",
          "data": {
            "text/html": [
              "<div>\n",
              "<style scoped>\n",
              "    .dataframe tbody tr th:only-of-type {\n",
              "        vertical-align: middle;\n",
              "    }\n",
              "\n",
              "    .dataframe tbody tr th {\n",
              "        vertical-align: top;\n",
              "    }\n",
              "\n",
              "    .dataframe thead th {\n",
              "        text-align: right;\n",
              "    }\n",
              "</style>\n",
              "<table border=\"1\" class=\"dataframe\">\n",
              "  <thead>\n",
              "    <tr style=\"text-align: right;\">\n",
              "      <th></th>\n",
              "      <th>Unnamed: 0</th>\n",
              "      <th>Age</th>\n",
              "    </tr>\n",
              "  </thead>\n",
              "  <tbody>\n",
              "    <tr>\n",
              "      <th>0</th>\n",
              "      <td>1</td>\n",
              "      <td>43</td>\n",
              "    </tr>\n",
              "    <tr>\n",
              "      <th>1</th>\n",
              "      <td>2</td>\n",
              "      <td>42</td>\n",
              "    </tr>\n",
              "    <tr>\n",
              "      <th>2</th>\n",
              "      <td>3</td>\n",
              "      <td>48</td>\n",
              "    </tr>\n",
              "    <tr>\n",
              "      <th>3</th>\n",
              "      <td>4</td>\n",
              "      <td>49</td>\n",
              "    </tr>\n",
              "    <tr>\n",
              "      <th>4</th>\n",
              "      <td>5</td>\n",
              "      <td>56</td>\n",
              "    </tr>\n",
              "  </tbody>\n",
              "</table>\n",
              "</div>"
            ],
            "text/plain": [
              "   Unnamed: 0  Age\n",
              "0           1   43\n",
              "1           2   42\n",
              "2           3   48\n",
              "3           4   49\n",
              "4           5   56"
            ]
          },
          "metadata": {
            "tags": []
          },
          "execution_count": 37
        }
      ]
    },
    {
      "cell_type": "code",
      "metadata": {
        "id": "z6nHUYsSlDCN",
        "colab_type": "code",
        "colab": {
          "base_uri": "https://localhost:8080/",
          "height": 173
        },
        "outputId": "0d343f42-f938-45cc-88f2-86eff716f714"
      },
      "source": [
        "a_a['Age'].describe()"
      ],
      "execution_count": 38,
      "outputs": [
        {
          "output_type": "execute_result",
          "data": {
            "text/plain": [
              "count    44.000000\n",
              "mean     44.977273\n",
              "std       9.749153\n",
              "min      29.000000\n",
              "25%      38.000000\n",
              "50%      43.500000\n",
              "75%      50.250000\n",
              "max      76.000000\n",
              "Name: Age, dtype: float64"
            ]
          },
          "metadata": {
            "tags": []
          },
          "execution_count": 38
        }
      ]
    },
    {
      "cell_type": "code",
      "metadata": {
        "id": "e5RPtAXwlNT8",
        "colab_type": "code",
        "colab": {
          "base_uri": "https://localhost:8080/",
          "height": 283
        },
        "outputId": "df78803b-a0a4-4377-bcbb-5a023de04441"
      },
      "source": [
        "a_a['Age'].hist()"
      ],
      "execution_count": 33,
      "outputs": [
        {
          "output_type": "execute_result",
          "data": {
            "text/plain": [
              "<matplotlib.axes._subplots.AxesSubplot at 0x7fc737b61b00>"
            ]
          },
          "metadata": {
            "tags": []
          },
          "execution_count": 33
        },
        {
          "output_type": "display_data",
          "data": {
            "image/png": "[encoded data removed]",
            "text/plain": [
              "<Figure size 432x288 with 1 Axes>"
            ]
          },
          "metadata": {
            "tags": [],
            "needs_background": "light"
          }
        }
      ]
    },
    {
      "cell_type": "code",
      "metadata": {
        "id": "k4CkAxkjl1gf",
        "colab_type": "code",
        "colab": {
          "base_uri": "https://localhost:8080/",
          "height": 283
        },
        "outputId": "c97a356c-deab-4c10-d023-0752c5f7af56"
      },
      "source": [
        "a_a.boxplot(column=['Age'])"
      ],
      "execution_count": 34,
      "outputs": [
        {
          "output_type": "execute_result",
          "data": {
            "text/plain": [
              "<matplotlib.axes._subplots.AxesSubplot at 0x7fc737628da0>"
            ]
          },
          "metadata": {
            "tags": []
          },
          "execution_count": 34
        },
        {
          "output_type": "display_data",
          "data": {
            "image/png": "[encoded data removed]",
            "text/plain": [
              "<Figure size 432x288 with 1 Axes>"
            ]
          },
          "metadata": {
            "tags": [],
            "needs_background": "light"
          }
        }
      ]
    },
    {
      "cell_type": "code",
      "metadata": {
        "id": "JlIbBbJVwFrX",
        "colab_type": "code",
        "colab": {
          "base_uri": "https://localhost:8080/",
          "height": 35
        },
        "outputId": "5dfb529c-14c2-4099-8584-c760c8dccd4f"
      },
      "source": [
        "median = a_a['Age'].describe()['50%']\n",
        "median"
      ],
      "execution_count": 46,
      "outputs": [
        {
          "output_type": "execute_result",
          "data": {
            "text/plain": [
              "43.5"
            ]
          },
          "metadata": {
            "tags": []
          },
          "execution_count": 46
        }
      ]
    },
    {
      "cell_type": "code",
      "metadata": {
        "id": "88keoktMp5_4",
        "colab_type": "code",
        "colab": {
          "base_uri": "https://localhost:8080/",
          "height": 35
        },
        "outputId": "900ef660-2054-4ccf-ce78-1246da8c53d4"
      },
      "source": [
        "range = a_a['Age'].describe()['max'] - a_a['Age'].describe()['min']\n",
        "range"
      ],
      "execution_count": 41,
      "outputs": [
        {
          "output_type": "execute_result",
          "data": {
            "text/plain": [
              "47.0"
            ]
          },
          "metadata": {
            "tags": []
          },
          "execution_count": 41
        }
      ]
    },
    {
      "cell_type": "code",
      "metadata": {
        "id": "h7ZMPjv-vmYy",
        "colab_type": "code",
        "colab": {
          "base_uri": "https://localhost:8080/",
          "height": 35
        },
        "outputId": "eed8ec98-3bed-4a4a-8e24-288f89f6313e"
      },
      "source": [
        "range_mid = a_a['Age'].describe()['75%'] - a_a['Age'].describe()['25%']\n",
        "range_mid"
      ],
      "execution_count": 42,
      "outputs": [
        {
          "output_type": "execute_result",
          "data": {
            "text/plain": [
              "12.25"
            ]
          },
          "metadata": {
            "tags": []
          },
          "execution_count": 42
        }
      ]
    },
    {
      "cell_type": "markdown",
      "metadata": {
        "id": "ddWoO9YlTm5T",
        "colab_type": "text"
      },
      "source": [
        "Q4. Describe the distribution of the ages of the Best Actor Oscar winners. \n",
        "Be sure to address shape, center, spread and outliers. (Dataset - Best Actor Oscar winners (1970-2013))\n",
        "\n",
        "Ans. \n",
        "     \n",
        "     Shape          Skewed to the right (44 rows, 1 column)\n",
        "\n",
        "     Center         44.977273\n",
        "\n",
        "     Spread(std)    9.749153\n",
        "\n",
        "     Outliers       Values above 65\n",
        "\n",
        "     From 30 to 76. The data is continous from 30 to arond 65, and then there is a spike after 70 to 76.\n",
        "     "
      ]
    },
    {
      "cell_type": "markdown",
      "metadata": {
        "id": "z5a4ZztBsjlD",
        "colab_type": "text"
      },
      "source": [
        "Q5. Getting information from the output: \n",
        "\n",
        "a. How many observations are in this data set? \n",
        "\n",
        "b. What is the mean age of the actors who won the Oscar? \n",
        "\n",
        "c. What is the five-number summary of the distribution? (Dataset - Best Actor Oscar winners (1970-2013))\n",
        "\n",
        "Ans. \n",
        "\n",
        "     Count (No. of Observations)    44.000000\n",
        "\n",
        "     Mean Age                       44.977273\n",
        "\n",
        "     Minimum Age                    29.000000\n",
        "\n",
        "     25% (1st Quartile)             38.000000\n",
        "\n",
        "     50% (2nd Quartile/Median)      43.500000\n",
        "\n",
        "     75% (3rd Quartile)             50.250000\n",
        "     \n",
        "     Maximum Age                    76.000000\n",
        "\n"
      ]
    },
    {
      "cell_type": "markdown",
      "metadata": {
        "id": "rnMZFQQIvEkv",
        "colab_type": "text"
      },
      "source": [
        "Q6. Get information from the five-number summary: \n",
        "\n",
        "a. Half of the actors won the Oscar before what age? \n",
        "\n",
        "b. What is the range covered by all the actors' ages?\n",
        "\n",
        "c. What is the range covered by the middle 50% of the ages? (Dataset - Best Actor Oscar winners (1970-2013))\n",
        "\n",
        "Ans.\n",
        "\n",
        "     Median (Age before which 50% won)     43.5\n",
        "\n",
        "     Range (All)                           76 - 29 = 47\n",
        "\n",
        "     Range (Middle 50%)                    Q3 - Q1 = 12.25"
      ]
    },
    {
      "cell_type": "markdown",
      "metadata": {
        "id": "_kqg25XrymVg",
        "colab_type": "text"
      },
      "source": [
        "**Ratings**"
      ]
    },
    {
      "cell_type": "code",
      "metadata": {
        "id": "2rFLw4Fd1GDP",
        "colab_type": "code",
        "colab": {
          "resources": {
            "http://localhost:8080/nbextensions/google.colab/files.js": {
              "data": "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",
              "ok": true,
              "headers": [
                [
                  "content-type",
                  "application/javascript"
                ]
              ],
              "status": 200,
              "status_text": ""
            }
          },
          "base_uri": "https://localhost:8080/",
          "height": 111
        },
        "outputId": "28206481-a1f2-44e3-c5ea-33045ff49af8"
      },
      "source": [
        "from google.colab import files\n",
        "files.upload()"
      ],
      "execution_count": 47,
      "outputs": [
        {
          "output_type": "display_data",
          "data": {
            "text/html": [
              "\n",
              "     <input type=\"file\" id=\"files-ae2e5813-559e-4901-80f4-fca02f467230\" name=\"files[]\" multiple disabled\n",
              "        style=\"border:none\" />\n",
              "     <output id=\"result-ae2e5813-559e-4901-80f4-fca02f467230\">\n",
              "      Upload widget is only available when the cell has been executed in the\n",
              "      current browser session. Please rerun this cell to enable.\n",
              "      </output>\n",
              "      <script src=\"/nbextensions/google.colab/files.js\"></script> "
            ],
            "text/plain": [
              "<IPython.core.display.HTML object>"
            ]
          },
          "metadata": {
            "tags": []
          }
        },
        {
          "output_type": "stream",
          "text": [
            "Saving ratings.csv to ratings.csv\n"
          ],
          "name": "stdout"
        },
        {
          "output_type": "execute_result",
          "data": {
            "text/plain": [
              "{'ratings.csv': b'\"\",\"Class.I\",\"Class.II\",\"Class.III\"\\n\"1\",1,1,1\\n\"2\",1,1,2\\n\"3\",5,1,3\\n\"4\",5,1,4\\n\"5\",5,1,5\\n\"6\",5,1,6\\n\"7\",5,1,7\\n\"8\",5,1,8\\n\"9\",5,1,9\\n\"10\",5,1,1\\n\"11\",5,1,2\\n\"12\",5,1,3\\n\"13\",5,1,4\\n\"14\",5,5,5\\n\"15\",5,9,6\\n\"16\",5,9,7\\n\"17\",5,9,8\\n\"18\",5,9,9\\n\"19\",5,9,1\\n\"20\",5,9,2\\n\"21\",5,9,3\\n\"22\",5,9,4\\n\"23\",5,9,5\\n\"24\",5,9,6\\n\"25\",5,9,7\\n\"26\",9,9,8\\n\"27\",9,9,9\\n'}"
            ]
          },
          "metadata": {
            "tags": []
          },
          "execution_count": 47
        }
      ]
    },
    {
      "cell_type": "code",
      "metadata": {
        "id": "hKnqz41I1O1F",
        "colab_type": "code",
        "colab": {
          "base_uri": "https://localhost:8080/",
          "height": 202
        },
        "outputId": "f927b92d-5259-481b-893a-622d9ff72506"
      },
      "source": [
        "r = pd.read_csv('ratings.csv')\n",
        "r.head()"
      ],
      "execution_count": 48,
      "outputs": [
        {
          "output_type": "execute_result",
          "data": {
            "text/html": [
              "<div>\n",
              "<style scoped>\n",
              "    .dataframe tbody tr th:only-of-type {\n",
              "        vertical-align: middle;\n",
              "    }\n",
              "\n",
              "    .dataframe tbody tr th {\n",
              "        vertical-align: top;\n",
              "    }\n",
              "\n",
              "    .dataframe thead th {\n",
              "        text-align: right;\n",
              "    }\n",
              "</style>\n",
              "<table border=\"1\" class=\"dataframe\">\n",
              "  <thead>\n",
              "    <tr style=\"text-align: right;\">\n",
              "      <th></th>\n",
              "      <th>Unnamed: 0</th>\n",
              "      <th>Class.I</th>\n",
              "      <th>Class.II</th>\n",
              "      <th>Class.III</th>\n",
              "    </tr>\n",
              "  </thead>\n",
              "  <tbody>\n",
              "    <tr>\n",
              "      <th>0</th>\n",
              "      <td>1</td>\n",
              "      <td>1</td>\n",
              "      <td>1</td>\n",
              "      <td>1</td>\n",
              "    </tr>\n",
              "    <tr>\n",
              "      <th>1</th>\n",
              "      <td>2</td>\n",
              "      <td>1</td>\n",
              "      <td>1</td>\n",
              "      <td>2</td>\n",
              "    </tr>\n",
              "    <tr>\n",
              "      <th>2</th>\n",
              "      <td>3</td>\n",
              "      <td>5</td>\n",
              "      <td>1</td>\n",
              "      <td>3</td>\n",
              "    </tr>\n",
              "    <tr>\n",
              "      <th>3</th>\n",
              "      <td>4</td>\n",
              "      <td>5</td>\n",
              "      <td>1</td>\n",
              "      <td>4</td>\n",
              "    </tr>\n",
              "    <tr>\n",
              "      <th>4</th>\n",
              "      <td>5</td>\n",
              "      <td>5</td>\n",
              "      <td>1</td>\n",
              "      <td>5</td>\n",
              "    </tr>\n",
              "  </tbody>\n",
              "</table>\n",
              "</div>"
            ],
            "text/plain": [
              "   Unnamed: 0  Class.I  Class.II  Class.III\n",
              "0           1        1         1          1\n",
              "1           2        1         1          2\n",
              "2           3        5         1          3\n",
              "3           4        5         1          4\n",
              "4           5        5         1          5"
            ]
          },
          "metadata": {
            "tags": []
          },
          "execution_count": 48
        }
      ]
    },
    {
      "cell_type": "code",
      "metadata": {
        "id": "zYV2WWG620m4",
        "colab_type": "code",
        "colab": {
          "base_uri": "https://localhost:8080/",
          "height": 294
        },
        "outputId": "ab0d6972-d751-49b2-966e-428b9da5f38c"
      },
      "source": [
        "r.describe()"
      ],
      "execution_count": 53,
      "outputs": [
        {
          "output_type": "execute_result",
          "data": {
            "text/html": [
              "<div>\n",
              "<style scoped>\n",
              "    .dataframe tbody tr th:only-of-type {\n",
              "        vertical-align: middle;\n",
              "    }\n",
              "\n",
              "    .dataframe tbody tr th {\n",
              "        vertical-align: top;\n",
              "    }\n",
              "\n",
              "    .dataframe thead th {\n",
              "        text-align: right;\n",
              "    }\n",
              "</style>\n",
              "<table border=\"1\" class=\"dataframe\">\n",
              "  <thead>\n",
              "    <tr style=\"text-align: right;\">\n",
              "      <th></th>\n",
              "      <th>Unnamed: 0</th>\n",
              "      <th>Class.I</th>\n",
              "      <th>Class.II</th>\n",
              "      <th>Class.III</th>\n",
              "    </tr>\n",
              "  </thead>\n",
              "  <tbody>\n",
              "    <tr>\n",
              "      <th>count</th>\n",
              "      <td>27.000000</td>\n",
              "      <td>27.000000</td>\n",
              "      <td>27.0</td>\n",
              "      <td>27.000000</td>\n",
              "    </tr>\n",
              "    <tr>\n",
              "      <th>mean</th>\n",
              "      <td>14.000000</td>\n",
              "      <td>5.000000</td>\n",
              "      <td>5.0</td>\n",
              "      <td>5.000000</td>\n",
              "    </tr>\n",
              "    <tr>\n",
              "      <th>std</th>\n",
              "      <td>7.937254</td>\n",
              "      <td>1.568929</td>\n",
              "      <td>4.0</td>\n",
              "      <td>2.631174</td>\n",
              "    </tr>\n",
              "    <tr>\n",
              "      <th>min</th>\n",
              "      <td>1.000000</td>\n",
              "      <td>1.000000</td>\n",
              "      <td>1.0</td>\n",
              "      <td>1.000000</td>\n",
              "    </tr>\n",
              "    <tr>\n",
              "      <th>25%</th>\n",
              "      <td>7.500000</td>\n",
              "      <td>5.000000</td>\n",
              "      <td>1.0</td>\n",
              "      <td>3.000000</td>\n",
              "    </tr>\n",
              "    <tr>\n",
              "      <th>50%</th>\n",
              "      <td>14.000000</td>\n",
              "      <td>5.000000</td>\n",
              "      <td>5.0</td>\n",
              "      <td>5.000000</td>\n",
              "    </tr>\n",
              "    <tr>\n",
              "      <th>75%</th>\n",
              "      <td>20.500000</td>\n",
              "      <td>5.000000</td>\n",
              "      <td>9.0</td>\n",
              "      <td>7.000000</td>\n",
              "    </tr>\n",
              "    <tr>\n",
              "      <th>max</th>\n",
              "      <td>27.000000</td>\n",
              "      <td>9.000000</td>\n",
              "      <td>9.0</td>\n",
              "      <td>9.000000</td>\n",
              "    </tr>\n",
              "  </tbody>\n",
              "</table>\n",
              "</div>"
            ],
            "text/plain": [
              "       Unnamed: 0    Class.I  Class.II  Class.III\n",
              "count   27.000000  27.000000      27.0  27.000000\n",
              "mean    14.000000   5.000000       5.0   5.000000\n",
              "std      7.937254   1.568929       4.0   2.631174\n",
              "min      1.000000   1.000000       1.0   1.000000\n",
              "25%      7.500000   5.000000       1.0   3.000000\n",
              "50%     14.000000   5.000000       5.0   5.000000\n",
              "75%     20.500000   5.000000       9.0   7.000000\n",
              "max     27.000000   9.000000       9.0   9.000000"
            ]
          },
          "metadata": {
            "tags": []
          },
          "execution_count": 53
        }
      ]
    },
    {
      "cell_type": "code",
      "metadata": {
        "id": "PlCAg4m22hl0",
        "colab_type": "code",
        "colab": {
          "base_uri": "https://localhost:8080/",
          "height": 35
        },
        "outputId": "d87f86ab-a7a3-4ae7-fb4d-b232c7a8c0cb"
      },
      "source": [
        "r['Class.I'].std()"
      ],
      "execution_count": 49,
      "outputs": [
        {
          "output_type": "execute_result",
          "data": {
            "text/plain": [
              "1.5689290811054724"
            ]
          },
          "metadata": {
            "tags": []
          },
          "execution_count": 49
        }
      ]
    },
    {
      "cell_type": "code",
      "metadata": {
        "id": "mSDsF3N52hiY",
        "colab_type": "code",
        "colab": {
          "base_uri": "https://localhost:8080/",
          "height": 35
        },
        "outputId": "931c3f74-ffec-463a-d0c1-55da3546e946"
      },
      "source": [
        "r['Class.II'].std()"
      ],
      "execution_count": 50,
      "outputs": [
        {
          "output_type": "execute_result",
          "data": {
            "text/plain": [
              "4.0"
            ]
          },
          "metadata": {
            "tags": []
          },
          "execution_count": 50
        }
      ]
    },
    {
      "cell_type": "code",
      "metadata": {
        "id": "IHfBQm6y2hf_",
        "colab_type": "code",
        "colab": {
          "base_uri": "https://localhost:8080/",
          "height": 35
        },
        "outputId": "aeeb4a4a-aaa0-4066-b9da-0d94d1cce3b7"
      },
      "source": [
        "r['Class.III'].std()"
      ],
      "execution_count": 51,
      "outputs": [
        {
          "output_type": "execute_result",
          "data": {
            "text/plain": [
              "2.6311740579210876"
            ]
          },
          "metadata": {
            "tags": []
          },
          "execution_count": 51
        }
      ]
    },
    {
      "cell_type": "code",
      "metadata": {
        "id": "0HDUutiw4g9i",
        "colab_type": "code",
        "colab": {
          "base_uri": "https://localhost:8080/",
          "height": 316
        },
        "outputId": "c43e9e71-2bf6-4784-f3b3-18e555a1a048"
      },
      "source": [
        "r.hist(column='Class.I')"
      ],
      "execution_count": 55,
      "outputs": [
        {
          "output_type": "execute_result",
          "data": {
            "text/plain": [
              "array([[<matplotlib.axes._subplots.AxesSubplot object at 0x7fc7374b2860>]],\n",
              "      dtype=object)"
            ]
          },
          "metadata": {
            "tags": []
          },
          "execution_count": 55
        },
        {
          "output_type": "display_data",
          "data": {
            "image/png": "[encoded data removed]",
            "text/plain": [
              "<Figure size 432x288 with 1 Axes>"
            ]
          },
          "metadata": {
            "tags": [],
            "needs_background": "light"
          }
        }
      ]
    },
    {
      "cell_type": "code",
      "metadata": {
        "id": "wxE0gz7u4l0i",
        "colab_type": "code",
        "colab": {
          "base_uri": "https://localhost:8080/",
          "height": 316
        },
        "outputId": "e6deca64-4b1c-4268-b42e-1439bcdd90d1"
      },
      "source": [
        "r.hist(column='Class.II')"
      ],
      "execution_count": 56,
      "outputs": [
        {
          "output_type": "execute_result",
          "data": {
            "text/plain": [
              "array([[<matplotlib.axes._subplots.AxesSubplot object at 0x7fc7374b2588>]],\n",
              "      dtype=object)"
            ]
          },
          "metadata": {
            "tags": []
          },
          "execution_count": 56
        },
        {
          "output_type": "display_data",
          "data": {
            "image/png": "[encoded data removed]",
            "text/plain": [
              "<Figure size 432x288 with 1 Axes>"
            ]
          },
          "metadata": {
            "tags": [],
            "needs_background": "light"
          }
        }
      ]
    },
    {
      "cell_type": "code",
      "metadata": {
        "id": "4wmLa7954pbe",
        "colab_type": "code",
        "colab": {
          "base_uri": "https://localhost:8080/",
          "height": 316
        },
        "outputId": "fa13d302-6d7b-428b-9302-d01f0fcba4e1"
      },
      "source": [
        "r.hist(column='Class.III')"
      ],
      "execution_count": 57,
      "outputs": [
        {
          "output_type": "execute_result",
          "data": {
            "text/plain": [
              "array([[<matplotlib.axes._subplots.AxesSubplot object at 0x7fc7373c02b0>]],\n",
              "      dtype=object)"
            ]
          },
          "metadata": {
            "tags": []
          },
          "execution_count": 57
        },
        {
          "output_type": "display_data",
          "data": {
            "image/png": "[encoded data removed]",
            "text/plain": [
              "<Figure size 432x288 with 1 Axes>"
            ]
          },
          "metadata": {
            "tags": [],
            "needs_background": "light"
          }
        }
      ]
    },
    {
      "cell_type": "markdown",
      "metadata": {
        "id": "qJCotCJz3LGx",
        "colab_type": "text"
      },
      "source": [
        "Q7. What are the standard deviations of the three rating distributions? Was your intuition correct? (Dataset - 27 students in the class were asked to rate the instructor on a number scale of 1 to 9)\n",
        "\n",
        "Ans.\n",
        "\n",
        "     std for Class.I    1.568929\n",
        "\n",
        "     std for Class.II   4.0\n",
        "\n",
        "     std for Class.III  2.631174"
      ]
    },
    {
      "cell_type": "markdown",
      "metadata": {
        "id": "PNrQRa_d44XR",
        "colab_type": "text"
      },
      "source": [
        "Q8. Assume that the average rating in each of the three classes is 5 (which should be visually reasonably clear from the histograms), and recall the interpretation of the SD as a \"typical\" or \"average\" distance between the data points and their mean. Judging from the table and the histograms, which class would have the largest standard deviation, and which one would have the smallest standard deviation? Explain your reasoning (Dataset - 27 students in the class were asked to rate the instructor on a number scale of 1 to 9)\n",
        "\n",
        "Ans. \n",
        "\n",
        "Class.I having most of the values near its mean of 5 has a lower spread and will have minimum standard deviation.\n",
        "\n",
        "Class.II having the least values near its mean of 5 has a greater spread and will have maximum standard deviation.\n",
        "\n",
        "Class.III having values spread evenly across its entire distribution will have a spread and has many values also lie at greater distances from the mean but also has some of the values lie close to the mean and therefore the standard deviation is less than Class.II but greater than Class.I.\n",
        "\n",
        "Hence, the order of the standard deviations is: \n",
        "\n",
        "     Class II > Class III > Class I"
      ]
    }
  ]
}