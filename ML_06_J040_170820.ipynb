{
  "nbformat": 4,
  "nbformat_minor": 0,
  "metadata": {
    "colab": {
      "name": "ML Lab 6.ipynb",
      "provenance": [],
      "authorship_tag": "ABX9TyNqzMjwYBeom3pVx0s6Ani2",
      "include_colab_link": true
    },
    "kernelspec": {
      "name": "python3",
      "display_name": "Python 3"
    }
  },
  "cells": [
    {
      "cell_type": "markdown",
      "metadata": {
        "id": "view-in-github",
        "colab_type": "text"
      },
      "source": [
        "<a href=\"https://colab.research.google.com/github/AayushSangani/ML/blob/master/ML_06_J040_170820.ipynb\" target=\"_parent\"><img src=\"https://colab.research.google.com/assets/colab-badge.svg\" alt=\"Open In Colab\"/></a>"
      ]
    },
    {
      "cell_type": "markdown",
      "metadata": {
        "id": "dEgKxvsQxswg",
        "colab_type": "text"
      },
      "source": [
        "\n",
        "#Experiment 6"
      ]
    },
    {
      "cell_type": "markdown",
      "metadata": {
        "id": "fuFUU0WKzyMP",
        "colab_type": "text"
      },
      "source": [
        "Perform classification on bitcoin 2011 dataset Dataset:"
      ]
    },
    {
      "cell_type": "markdown",
      "metadata": {
        "id": "N8lotEhlzt6E",
        "colab_type": "text"
      },
      "source": [
        "Select the correct architecture for +75% accuracy on cross validation and test set for bitcoin 2011 dataset - 60%-20%-20% (Train-Crossval-Test split)."
      ]
    },
    {
      "cell_type": "code",
      "metadata": {
        "id": "KcndSttDxmGn",
        "colab_type": "code",
        "colab": {
          "base_uri": "https://localhost:8080/",
          "height": 72
        },
        "outputId": "5aa5961b-8e57-4f35-98dc-d8b5e1d5c3bf"
      },
      "source": [
        "import numpy as np\n",
        "import pandas as pd\n",
        "\n",
        "import matplotlib.pyplot as plt\n",
        "import seaborn as sns\n",
        "\n",
        "from sklearn.model_selection import train_test_split, cross_val_score\n",
        "from sklearn.preprocessing import StandardScaler"
      ],
      "execution_count": null,
      "outputs": [
        {
          "output_type": "stream",
          "text": [
            "/usr/local/lib/python3.6/dist-packages/statsmodels/tools/_testing.py:19: FutureWarning: pandas.util.testing is deprecated. Use the functions in the public API at pandas.testing instead.\n",
            "  import pandas.util.testing as tm\n"
          ],
          "name": "stderr"
        }
      ]
    },
    {
      "cell_type": "code",
      "metadata": {
        "id": "YECZwSwU0Ijs",
        "colab_type": "code",
        "colab": {
          "base_uri": "https://localhost:8080/",
          "height": 604
        },
        "outputId": "3159cca7-4ad6-4050-99b0-96cfc79ef5db"
      },
      "source": [
        "!wget -O 2011gcn.csv https://raw.githubusercontent.com/pranavn91/blockchain/master/2011gcn.csv\n",
        "!wget -O tx2011partvertices_new.csv https://raw.githubusercontent.com/pranavn91/blockchain/master/tx2011partvertices_new.csv\n",
        "!wget -O tx2011partvertices.csv https://raw.githubusercontent.com/pranavn91/blockchain/master/tx2011partvertices.csv\n",
        " \n",
        "train1 = pd.read_csv('2011gcn.csv')\n",
        "train2 = pd.read_csv('tx2011partvertices_new.csv')\n",
        "train3 = pd.read_csv('tx2011partvertices.csv')"
      ],
      "execution_count": null,
      "outputs": [
        {
          "output_type": "stream",
          "text": [
            "--2020-08-24 09:42:30--  https://raw.githubusercontent.com/pranavn91/blockchain/master/2011gcn.csv\n",
            "Resolving raw.githubusercontent.com (raw.githubusercontent.com)... 151.101.0.133, 151.101.64.133, 151.101.128.133, ...\n",
            "Connecting to raw.githubusercontent.com (raw.githubusercontent.com)|151.101.0.133|:443... connected.\n",
            "HTTP request sent, awaiting response... 200 OK\n",
            "Length: 12563086 (12M) [text/plain]\n",
            "Saving to: ‘2011gcn.csv’\n",
            "\n",
            "2011gcn.csv         100%[===================>]  11.98M  22.2MB/s    in 0.5s    \n",
            "\n",
            "2020-08-24 09:42:31 (22.2 MB/s) - ‘2011gcn.csv’ saved [12563086/12563086]\n",
            "\n",
            "--2020-08-24 09:42:33--  https://raw.githubusercontent.com/pranavn91/blockchain/master/tx2011partvertices_new.csv\n",
            "Resolving raw.githubusercontent.com (raw.githubusercontent.com)... 151.101.0.133, 151.101.64.133, 151.101.128.133, ...\n",
            "Connecting to raw.githubusercontent.com (raw.githubusercontent.com)|151.101.0.133|:443... connected.\n",
            "HTTP request sent, awaiting response... 200 OK\n",
            "Length: 12501458 (12M) [text/plain]\n",
            "Saving to: ‘tx2011partvertices_new.csv’\n",
            "\n",
            "tx2011partvertices_ 100%[===================>]  11.92M  20.7MB/s    in 0.6s    \n",
            "\n",
            "2020-08-24 09:42:34 (20.7 MB/s) - ‘tx2011partvertices_new.csv’ saved [12501458/12501458]\n",
            "\n",
            "--2020-08-24 09:42:36--  https://raw.githubusercontent.com/pranavn91/blockchain/master/tx2011partvertices.csv\n",
            "Resolving raw.githubusercontent.com (raw.githubusercontent.com)... 151.101.0.133, 151.101.64.133, 151.101.128.133, ...\n",
            "Connecting to raw.githubusercontent.com (raw.githubusercontent.com)|151.101.0.133|:443... connected.\n",
            "HTTP request sent, awaiting response... 200 OK\n",
            "Length: 1934257 (1.8M) [text/plain]\n",
            "Saving to: ‘tx2011partvertices.csv’\n",
            "\n",
            "tx2011partvertices. 100%[===================>]   1.84M  9.54MB/s    in 0.2s    \n",
            "\n",
            "2020-08-24 09:42:37 (9.54 MB/s) - ‘tx2011partvertices.csv’ saved [1934257/1934257]\n",
            "\n"
          ],
          "name": "stdout"
        }
      ]
    },
    {
      "cell_type": "code",
      "metadata": {
        "id": "XSjMdnRu0OID",
        "colab_type": "code",
        "colab": {
          "base_uri": "https://localhost:8080/",
          "height": 70
        },
        "outputId": "b21d02c1-4e8c-450c-e1ed-00a8cd47b628"
      },
      "source": [
        "print('Train 1 shape: ', train1.shape)\n",
        "print('Train 2 shape: ', train2.shape)\n",
        "print('Train 3 shape: ', train3.shape)"
      ],
      "execution_count": null,
      "outputs": [
        {
          "output_type": "stream",
          "text": [
            "Train 1 shape:  (96498, 17)\n",
            "Train 2 shape:  (96498, 20)\n",
            "Train 3 shape:  (96498, 2)\n"
          ],
          "name": "stdout"
        }
      ]
    },
    {
      "cell_type": "code",
      "metadata": {
        "id": "_VPRUSRU0T8R",
        "colab_type": "code",
        "colab": {
          "base_uri": "https://localhost:8080/",
          "height": 444
        },
        "outputId": "5f8b9fdb-ccc6-4fcc-9e12-5298e6e96577"
      },
      "source": [
        "train1.info()"
      ],
      "execution_count": null,
      "outputs": [
        {
          "output_type": "stream",
          "text": [
            "<class 'pandas.core.frame.DataFrame'>\n",
            "RangeIndex: 96498 entries, 0 to 96497\n",
            "Data columns (total 17 columns):\n",
            " #   Column      Non-Null Count  Dtype  \n",
            "---  ------      --------------  -----  \n",
            " 0   Unnamed: 0  96498 non-null  int64  \n",
            " 1   0           96498 non-null  float64\n",
            " 2   1           96498 non-null  float64\n",
            " 3   2           96498 non-null  float64\n",
            " 4   3           96498 non-null  float64\n",
            " 5   4           96498 non-null  float64\n",
            " 6   5           96498 non-null  float64\n",
            " 7   6           96498 non-null  float64\n",
            " 8   7           96498 non-null  float64\n",
            " 9   8           96498 non-null  float64\n",
            " 10  9           96498 non-null  float64\n",
            " 11  10          96498 non-null  float64\n",
            " 12  11          96498 non-null  float64\n",
            " 13  12          96498 non-null  float64\n",
            " 14  13          96498 non-null  float64\n",
            " 15  14          96498 non-null  float64\n",
            " 16  15          96498 non-null  float64\n",
            "dtypes: float64(16), int64(1)\n",
            "memory usage: 12.5 MB\n"
          ],
          "name": "stdout"
        }
      ]
    },
    {
      "cell_type": "code",
      "metadata": {
        "id": "825bRXMR0X_K",
        "colab_type": "code",
        "colab": {
          "base_uri": "https://localhost:8080/",
          "height": 200
        },
        "outputId": "15b65a96-198a-4841-b548-fa623ecf4012"
      },
      "source": [
        "train1.rename(columns={'Unnamed: 0':'index'}, inplace=True)\n",
        "train1['index'] = train1['index'] + 1\n",
        "train1.head()"
      ],
      "execution_count": null,
      "outputs": [
        {
          "output_type": "execute_result",
          "data": {
            "text/html": [
              "<div>\n",
              "<style scoped>\n",
              "    .dataframe tbody tr th:only-of-type {\n",
              "        vertical-align: middle;\n",
              "    }\n",
              "\n",
              "    .dataframe tbody tr th {\n",
              "        vertical-align: top;\n",
              "    }\n",
              "\n",
              "    .dataframe thead th {\n",
              "        text-align: right;\n",
              "    }\n",
              "</style>\n",
              "<table border=\"1\" class=\"dataframe\">\n",
              "  <thead>\n",
              "    <tr style=\"text-align: right;\">\n",
              "      <th></th>\n",
              "      <th>index</th>\n",
              "      <th>0</th>\n",
              "      <th>1</th>\n",
              "      <th>2</th>\n",
              "      <th>3</th>\n",
              "      <th>4</th>\n",
              "      <th>5</th>\n",
              "      <th>6</th>\n",
              "      <th>7</th>\n",
              "      <th>8</th>\n",
              "      <th>9</th>\n",
              "      <th>10</th>\n",
              "      <th>11</th>\n",
              "      <th>12</th>\n",
              "      <th>13</th>\n",
              "      <th>14</th>\n",
              "      <th>15</th>\n",
              "    </tr>\n",
              "  </thead>\n",
              "  <tbody>\n",
              "    <tr>\n",
              "      <th>0</th>\n",
              "      <td>1</td>\n",
              "      <td>0.0</td>\n",
              "      <td>4.811244e+07</td>\n",
              "      <td>0.0</td>\n",
              "      <td>0.0</td>\n",
              "      <td>5.298934e+07</td>\n",
              "      <td>0.0</td>\n",
              "      <td>5.215435e+07</td>\n",
              "      <td>0.0</td>\n",
              "      <td>0.0</td>\n",
              "      <td>4.293262e+05</td>\n",
              "      <td>3.994267e+07</td>\n",
              "      <td>6.251989e+07</td>\n",
              "      <td>0.0</td>\n",
              "      <td>0.0</td>\n",
              "      <td>2.670458e+07</td>\n",
              "      <td>8.313858e+07</td>\n",
              "    </tr>\n",
              "    <tr>\n",
              "      <th>1</th>\n",
              "      <td>2</td>\n",
              "      <td>0.0</td>\n",
              "      <td>3.477977e+05</td>\n",
              "      <td>0.0</td>\n",
              "      <td>0.0</td>\n",
              "      <td>3.777575e+05</td>\n",
              "      <td>0.0</td>\n",
              "      <td>3.757520e+05</td>\n",
              "      <td>0.0</td>\n",
              "      <td>0.0</td>\n",
              "      <td>6.889133e+03</td>\n",
              "      <td>3.001618e+05</td>\n",
              "      <td>4.527358e+05</td>\n",
              "      <td>0.0</td>\n",
              "      <td>0.0</td>\n",
              "      <td>1.915057e+05</td>\n",
              "      <td>6.009039e+05</td>\n",
              "    </tr>\n",
              "    <tr>\n",
              "      <th>2</th>\n",
              "      <td>3</td>\n",
              "      <td>0.0</td>\n",
              "      <td>6.455196e+07</td>\n",
              "      <td>0.0</td>\n",
              "      <td>0.0</td>\n",
              "      <td>7.110790e+07</td>\n",
              "      <td>0.0</td>\n",
              "      <td>6.997804e+07</td>\n",
              "      <td>0.0</td>\n",
              "      <td>0.0</td>\n",
              "      <td>5.670157e+05</td>\n",
              "      <td>5.356332e+07</td>\n",
              "      <td>8.388026e+07</td>\n",
              "      <td>0.0</td>\n",
              "      <td>0.0</td>\n",
              "      <td>3.583296e+07</td>\n",
              "      <td>1.115463e+08</td>\n",
              "    </tr>\n",
              "    <tr>\n",
              "      <th>3</th>\n",
              "      <td>4</td>\n",
              "      <td>0.0</td>\n",
              "      <td>2.009876e+08</td>\n",
              "      <td>0.0</td>\n",
              "      <td>0.0</td>\n",
              "      <td>2.214679e+08</td>\n",
              "      <td>0.0</td>\n",
              "      <td>2.174101e+08</td>\n",
              "      <td>0.0</td>\n",
              "      <td>0.0</td>\n",
              "      <td>1.342720e+06</td>\n",
              "      <td>1.665389e+08</td>\n",
              "      <td>2.614420e+08</td>\n",
              "      <td>0.0</td>\n",
              "      <td>0.0</td>\n",
              "      <td>1.116514e+08</td>\n",
              "      <td>3.472892e+08</td>\n",
              "    </tr>\n",
              "    <tr>\n",
              "      <th>4</th>\n",
              "      <td>5</td>\n",
              "      <td>0.0</td>\n",
              "      <td>2.384675e+05</td>\n",
              "      <td>0.0</td>\n",
              "      <td>0.0</td>\n",
              "      <td>2.597246e+05</td>\n",
              "      <td>0.0</td>\n",
              "      <td>2.577884e+05</td>\n",
              "      <td>0.0</td>\n",
              "      <td>0.0</td>\n",
              "      <td>4.202993e+03</td>\n",
              "      <td>2.042845e+05</td>\n",
              "      <td>3.103489e+05</td>\n",
              "      <td>0.0</td>\n",
              "      <td>0.0</td>\n",
              "      <td>1.315073e+05</td>\n",
              "      <td>4.120424e+05</td>\n",
              "    </tr>\n",
              "  </tbody>\n",
              "</table>\n",
              "</div>"
            ],
            "text/plain": [
              "   index    0             1    2  ...   12   13            14            15\n",
              "0      1  0.0  4.811244e+07  0.0  ...  0.0  0.0  2.670458e+07  8.313858e+07\n",
              "1      2  0.0  3.477977e+05  0.0  ...  0.0  0.0  1.915057e+05  6.009039e+05\n",
              "2      3  0.0  6.455196e+07  0.0  ...  0.0  0.0  3.583296e+07  1.115463e+08\n",
              "3      4  0.0  2.009876e+08  0.0  ...  0.0  0.0  1.116514e+08  3.472892e+08\n",
              "4      5  0.0  2.384675e+05  0.0  ...  0.0  0.0  1.315073e+05  4.120424e+05\n",
              "\n",
              "[5 rows x 17 columns]"
            ]
          },
          "metadata": {
            "tags": []
          },
          "execution_count": 5
        }
      ]
    },
    {
      "cell_type": "code",
      "metadata": {
        "id": "PcHSgE9l0aZ2",
        "colab_type": "code",
        "colab": {
          "base_uri": "https://localhost:8080/",
          "height": 497
        },
        "outputId": "7a9cc57e-41e1-42d9-8063-d48df2ffb99e"
      },
      "source": [
        "train2.info()"
      ],
      "execution_count": null,
      "outputs": [
        {
          "output_type": "stream",
          "text": [
            "<class 'pandas.core.frame.DataFrame'>\n",
            "RangeIndex: 96498 entries, 0 to 96497\n",
            "Data columns (total 20 columns):\n",
            " #   Column           Non-Null Count  Dtype  \n",
            "---  ------           --------------  -----  \n",
            " 0   Unnamed: 0       96498 non-null  int64  \n",
            " 1   txsize           96498 non-null  int64  \n",
            " 2   txvirtualsize    96498 non-null  int64  \n",
            " 3   txinputs_count   96498 non-null  int64  \n",
            " 4   txoutputs_count  96498 non-null  int64  \n",
            " 5   txinput_val      96498 non-null  float64\n",
            " 6   txoutput_val     96498 non-null  float64\n",
            " 7   txfee            96498 non-null  int64  \n",
            " 8   Min_received     96498 non-null  float64\n",
            " 9   Max_received     96498 non-null  float64\n",
            " 10  Avg_received     96498 non-null  float64\n",
            " 11  Total_received   96498 non-null  float64\n",
            " 12  Stdev_received   96498 non-null  float64\n",
            " 13  Var_received     96498 non-null  float64\n",
            " 14  Min_sent         96498 non-null  float64\n",
            " 15  Max_sent         96498 non-null  float64\n",
            " 16  Avg_sent         96498 non-null  float64\n",
            " 17  Total_sent       96498 non-null  float64\n",
            " 18  Stdev_sent       96498 non-null  float64\n",
            " 19  Var_sent         96498 non-null  float64\n",
            "dtypes: float64(14), int64(6)\n",
            "memory usage: 14.7 MB\n"
          ],
          "name": "stdout"
        }
      ]
    },
    {
      "cell_type": "code",
      "metadata": {
        "id": "_7eMdiZT0aYE",
        "colab_type": "code",
        "colab": {
          "base_uri": "https://localhost:8080/",
          "height": 220
        },
        "outputId": "eb0b2d15-ca51-4528-e9d1-1b9cc36d1363"
      },
      "source": [
        "train2.rename(columns={'Unnamed: 0':'index'}, inplace=True)\n",
        "train2.head()"
      ],
      "execution_count": null,
      "outputs": [
        {
          "output_type": "execute_result",
          "data": {
            "text/html": [
              "<div>\n",
              "<style scoped>\n",
              "    .dataframe tbody tr th:only-of-type {\n",
              "        vertical-align: middle;\n",
              "    }\n",
              "\n",
              "    .dataframe tbody tr th {\n",
              "        vertical-align: top;\n",
              "    }\n",
              "\n",
              "    .dataframe thead th {\n",
              "        text-align: right;\n",
              "    }\n",
              "</style>\n",
              "<table border=\"1\" class=\"dataframe\">\n",
              "  <thead>\n",
              "    <tr style=\"text-align: right;\">\n",
              "      <th></th>\n",
              "      <th>index</th>\n",
              "      <th>txsize</th>\n",
              "      <th>txvirtualsize</th>\n",
              "      <th>txinputs_count</th>\n",
              "      <th>txoutputs_count</th>\n",
              "      <th>txinput_val</th>\n",
              "      <th>txoutput_val</th>\n",
              "      <th>txfee</th>\n",
              "      <th>Min_received</th>\n",
              "      <th>Max_received</th>\n",
              "      <th>Avg_received</th>\n",
              "      <th>Total_received</th>\n",
              "      <th>Stdev_received</th>\n",
              "      <th>Var_received</th>\n",
              "      <th>Min_sent</th>\n",
              "      <th>Max_sent</th>\n",
              "      <th>Avg_sent</th>\n",
              "      <th>Total_sent</th>\n",
              "      <th>Stdev_sent</th>\n",
              "      <th>Var_sent</th>\n",
              "    </tr>\n",
              "  </thead>\n",
              "  <tbody>\n",
              "    <tr>\n",
              "      <th>0</th>\n",
              "      <td>1</td>\n",
              "      <td>7369</td>\n",
              "      <td>7369</td>\n",
              "      <td>5</td>\n",
              "      <td>190</td>\n",
              "      <td>215000000.0</td>\n",
              "      <td>214600000.0</td>\n",
              "      <td>400000</td>\n",
              "      <td>0.0005</td>\n",
              "      <td>1.0000</td>\n",
              "      <td>0.011295</td>\n",
              "      <td>2.1460</td>\n",
              "      <td>0.081163</td>\n",
              "      <td>0.006587</td>\n",
              "      <td>0.0005</td>\n",
              "      <td>1.6700</td>\n",
              "      <td>0.4300</td>\n",
              "      <td>2.1500</td>\n",
              "      <td>0.703445</td>\n",
              "      <td>0.494835</td>\n",
              "    </tr>\n",
              "    <tr>\n",
              "      <th>1</th>\n",
              "      <td>2</td>\n",
              "      <td>293</td>\n",
              "      <td>293</td>\n",
              "      <td>1</td>\n",
              "      <td>3</td>\n",
              "      <td>4400000.0</td>\n",
              "      <td>4350000.0</td>\n",
              "      <td>50000</td>\n",
              "      <td>0.0010</td>\n",
              "      <td>0.0415</td>\n",
              "      <td>0.014500</td>\n",
              "      <td>0.0435</td>\n",
              "      <td>0.023383</td>\n",
              "      <td>0.000547</td>\n",
              "      <td>0.0440</td>\n",
              "      <td>0.0440</td>\n",
              "      <td>0.0440</td>\n",
              "      <td>0.0440</td>\n",
              "      <td>0.000000</td>\n",
              "      <td>0.000000</td>\n",
              "    </tr>\n",
              "    <tr>\n",
              "      <th>2</th>\n",
              "      <td>3</td>\n",
              "      <td>11139</td>\n",
              "      <td>11139</td>\n",
              "      <td>1</td>\n",
              "      <td>322</td>\n",
              "      <td>125000000.0</td>\n",
              "      <td>124400000.0</td>\n",
              "      <td>600000</td>\n",
              "      <td>0.0010</td>\n",
              "      <td>0.4460</td>\n",
              "      <td>0.003863</td>\n",
              "      <td>1.2440</td>\n",
              "      <td>0.024941</td>\n",
              "      <td>0.000622</td>\n",
              "      <td>1.2500</td>\n",
              "      <td>1.2500</td>\n",
              "      <td>1.2500</td>\n",
              "      <td>1.2500</td>\n",
              "      <td>0.000000</td>\n",
              "      <td>0.000000</td>\n",
              "    </tr>\n",
              "    <tr>\n",
              "      <th>3</th>\n",
              "      <td>4</td>\n",
              "      <td>495</td>\n",
              "      <td>495</td>\n",
              "      <td>1</td>\n",
              "      <td>9</td>\n",
              "      <td>27450000.0</td>\n",
              "      <td>27400000.0</td>\n",
              "      <td>50000</td>\n",
              "      <td>0.0010</td>\n",
              "      <td>0.2660</td>\n",
              "      <td>0.030444</td>\n",
              "      <td>0.2740</td>\n",
              "      <td>0.088333</td>\n",
              "      <td>0.007803</td>\n",
              "      <td>0.2745</td>\n",
              "      <td>0.2745</td>\n",
              "      <td>0.2745</td>\n",
              "      <td>0.2745</td>\n",
              "      <td>0.000000</td>\n",
              "      <td>0.000000</td>\n",
              "    </tr>\n",
              "    <tr>\n",
              "      <th>4</th>\n",
              "      <td>5</td>\n",
              "      <td>462</td>\n",
              "      <td>462</td>\n",
              "      <td>1</td>\n",
              "      <td>8</td>\n",
              "      <td>3000000.0</td>\n",
              "      <td>2950000.0</td>\n",
              "      <td>50000</td>\n",
              "      <td>0.0010</td>\n",
              "      <td>0.0225</td>\n",
              "      <td>0.003687</td>\n",
              "      <td>0.0295</td>\n",
              "      <td>0.007601</td>\n",
              "      <td>0.000058</td>\n",
              "      <td>0.0300</td>\n",
              "      <td>0.0300</td>\n",
              "      <td>0.0300</td>\n",
              "      <td>0.0300</td>\n",
              "      <td>0.000000</td>\n",
              "      <td>0.000000</td>\n",
              "    </tr>\n",
              "  </tbody>\n",
              "</table>\n",
              "</div>"
            ],
            "text/plain": [
              "   index  txsize  txvirtualsize  ...  Total_sent  Stdev_sent  Var_sent\n",
              "0      1    7369           7369  ...      2.1500    0.703445  0.494835\n",
              "1      2     293            293  ...      0.0440    0.000000  0.000000\n",
              "2      3   11139          11139  ...      1.2500    0.000000  0.000000\n",
              "3      4     495            495  ...      0.2745    0.000000  0.000000\n",
              "4      5     462            462  ...      0.0300    0.000000  0.000000\n",
              "\n",
              "[5 rows x 20 columns]"
            ]
          },
          "metadata": {
            "tags": []
          },
          "execution_count": 7
        }
      ]
    },
    {
      "cell_type": "code",
      "metadata": {
        "id": "0LxZO9lV0huU",
        "colab_type": "code",
        "colab": {
          "base_uri": "https://localhost:8080/",
          "height": 177
        },
        "outputId": "debb3702-8e31-4602-8288-766961b63d7a"
      },
      "source": [
        "train3.info()"
      ],
      "execution_count": null,
      "outputs": [
        {
          "output_type": "stream",
          "text": [
            "<class 'pandas.core.frame.DataFrame'>\n",
            "RangeIndex: 96498 entries, 0 to 96497\n",
            "Data columns (total 2 columns):\n",
            " #   Column      Non-Null Count  Dtype \n",
            "---  ------      --------------  ----- \n",
            " 0   Unnamed: 0  96498 non-null  int64 \n",
            " 1   label       96498 non-null  object\n",
            "dtypes: int64(1), object(1)\n",
            "memory usage: 1.5+ MB\n"
          ],
          "name": "stdout"
        }
      ]
    },
    {
      "cell_type": "code",
      "metadata": {
        "id": "bbZOmDJk0kdV",
        "colab_type": "code",
        "colab": {
          "base_uri": "https://localhost:8080/",
          "height": 200
        },
        "outputId": "5531a3b3-0e1d-43f3-e55c-b4c3e6d125eb"
      },
      "source": [
        "train3.rename(columns={'Unnamed: 0':'index'}, inplace=True)\n",
        "train3.head()"
      ],
      "execution_count": null,
      "outputs": [
        {
          "output_type": "execute_result",
          "data": {
            "text/html": [
              "<div>\n",
              "<style scoped>\n",
              "    .dataframe tbody tr th:only-of-type {\n",
              "        vertical-align: middle;\n",
              "    }\n",
              "\n",
              "    .dataframe tbody tr th {\n",
              "        vertical-align: top;\n",
              "    }\n",
              "\n",
              "    .dataframe thead th {\n",
              "        text-align: right;\n",
              "    }\n",
              "</style>\n",
              "<table border=\"1\" class=\"dataframe\">\n",
              "  <thead>\n",
              "    <tr style=\"text-align: right;\">\n",
              "      <th></th>\n",
              "      <th>index</th>\n",
              "      <th>label</th>\n",
              "    </tr>\n",
              "  </thead>\n",
              "  <tbody>\n",
              "    <tr>\n",
              "      <th>0</th>\n",
              "      <td>1</td>\n",
              "      <td>unclassified</td>\n",
              "    </tr>\n",
              "    <tr>\n",
              "      <th>1</th>\n",
              "      <td>2</td>\n",
              "      <td>donations</td>\n",
              "    </tr>\n",
              "    <tr>\n",
              "      <th>2</th>\n",
              "      <td>3</td>\n",
              "      <td>unclassified</td>\n",
              "    </tr>\n",
              "    <tr>\n",
              "      <th>3</th>\n",
              "      <td>4</td>\n",
              "      <td>donations</td>\n",
              "    </tr>\n",
              "    <tr>\n",
              "      <th>4</th>\n",
              "      <td>5</td>\n",
              "      <td>donations</td>\n",
              "    </tr>\n",
              "  </tbody>\n",
              "</table>\n",
              "</div>"
            ],
            "text/plain": [
              "   index         label\n",
              "0      1  unclassified\n",
              "1      2     donations\n",
              "2      3  unclassified\n",
              "3      4     donations\n",
              "4      5     donations"
            ]
          },
          "metadata": {
            "tags": []
          },
          "execution_count": 9
        }
      ]
    },
    {
      "cell_type": "code",
      "metadata": {
        "id": "ys6S465Q0yST",
        "colab_type": "code",
        "colab": {}
      },
      "source": [
        "results = pd.merge(train3, train1, on='index', how='inner')\n",
        "\n",
        "# Split data into X and Y.\n",
        "X = results.iloc[:,2:18]\n",
        "Y = results['label']"
      ],
      "execution_count": null,
      "outputs": []
    },
    {
      "cell_type": "code",
      "metadata": {
        "id": "OCpAWUf602In",
        "colab_type": "code",
        "colab": {
          "base_uri": "https://localhost:8080/",
          "height": 411
        },
        "outputId": "55af21e0-ce29-4d87-a54d-b60f5c515f5c"
      },
      "source": [
        "#from sklearn import preprocessing\n",
        "#le = preprocessing.LabelEncoder()\n",
        "#le.fit(results['label'].unique())\n",
        "Y_dummies = pd.get_dummies(Y)\n",
        "#Y_tranform = le.transform(Y)\n",
        "#Y = pd.DataFrame(Y_transform)\n",
        "Y = Y_dummies\n",
        "Y"
      ],
      "execution_count": null,
      "outputs": [
        {
          "output_type": "execute_result",
          "data": {
            "text/html": [
              "<div>\n",
              "<style scoped>\n",
              "    .dataframe tbody tr th:only-of-type {\n",
              "        vertical-align: middle;\n",
              "    }\n",
              "\n",
              "    .dataframe tbody tr th {\n",
              "        vertical-align: top;\n",
              "    }\n",
              "\n",
              "    .dataframe thead th {\n",
              "        text-align: right;\n",
              "    }\n",
              "</style>\n",
              "<table border=\"1\" class=\"dataframe\">\n",
              "  <thead>\n",
              "    <tr style=\"text-align: right;\">\n",
              "      <th></th>\n",
              "      <th>donations</th>\n",
              "      <th>exchange</th>\n",
              "      <th>mixer</th>\n",
              "      <th>paymentgateway</th>\n",
              "      <th>unclassified</th>\n",
              "      <th>wallets</th>\n",
              "    </tr>\n",
              "  </thead>\n",
              "  <tbody>\n",
              "    <tr>\n",
              "      <th>0</th>\n",
              "      <td>0</td>\n",
              "      <td>0</td>\n",
              "      <td>0</td>\n",
              "      <td>0</td>\n",
              "      <td>1</td>\n",
              "      <td>0</td>\n",
              "    </tr>\n",
              "    <tr>\n",
              "      <th>1</th>\n",
              "      <td>1</td>\n",
              "      <td>0</td>\n",
              "      <td>0</td>\n",
              "      <td>0</td>\n",
              "      <td>0</td>\n",
              "      <td>0</td>\n",
              "    </tr>\n",
              "    <tr>\n",
              "      <th>2</th>\n",
              "      <td>0</td>\n",
              "      <td>0</td>\n",
              "      <td>0</td>\n",
              "      <td>0</td>\n",
              "      <td>1</td>\n",
              "      <td>0</td>\n",
              "    </tr>\n",
              "    <tr>\n",
              "      <th>3</th>\n",
              "      <td>1</td>\n",
              "      <td>0</td>\n",
              "      <td>0</td>\n",
              "      <td>0</td>\n",
              "      <td>0</td>\n",
              "      <td>0</td>\n",
              "    </tr>\n",
              "    <tr>\n",
              "      <th>4</th>\n",
              "      <td>1</td>\n",
              "      <td>0</td>\n",
              "      <td>0</td>\n",
              "      <td>0</td>\n",
              "      <td>0</td>\n",
              "      <td>0</td>\n",
              "    </tr>\n",
              "    <tr>\n",
              "      <th>...</th>\n",
              "      <td>...</td>\n",
              "      <td>...</td>\n",
              "      <td>...</td>\n",
              "      <td>...</td>\n",
              "      <td>...</td>\n",
              "      <td>...</td>\n",
              "    </tr>\n",
              "    <tr>\n",
              "      <th>96493</th>\n",
              "      <td>1</td>\n",
              "      <td>0</td>\n",
              "      <td>0</td>\n",
              "      <td>0</td>\n",
              "      <td>0</td>\n",
              "      <td>0</td>\n",
              "    </tr>\n",
              "    <tr>\n",
              "      <th>96494</th>\n",
              "      <td>1</td>\n",
              "      <td>0</td>\n",
              "      <td>0</td>\n",
              "      <td>0</td>\n",
              "      <td>0</td>\n",
              "      <td>0</td>\n",
              "    </tr>\n",
              "    <tr>\n",
              "      <th>96495</th>\n",
              "      <td>1</td>\n",
              "      <td>0</td>\n",
              "      <td>0</td>\n",
              "      <td>0</td>\n",
              "      <td>0</td>\n",
              "      <td>0</td>\n",
              "    </tr>\n",
              "    <tr>\n",
              "      <th>96496</th>\n",
              "      <td>0</td>\n",
              "      <td>1</td>\n",
              "      <td>0</td>\n",
              "      <td>0</td>\n",
              "      <td>0</td>\n",
              "      <td>0</td>\n",
              "    </tr>\n",
              "    <tr>\n",
              "      <th>96497</th>\n",
              "      <td>0</td>\n",
              "      <td>1</td>\n",
              "      <td>0</td>\n",
              "      <td>0</td>\n",
              "      <td>0</td>\n",
              "      <td>0</td>\n",
              "    </tr>\n",
              "  </tbody>\n",
              "</table>\n",
              "<p>96498 rows × 6 columns</p>\n",
              "</div>"
            ],
            "text/plain": [
              "       donations  exchange  mixer  paymentgateway  unclassified  wallets\n",
              "0              0         0      0               0             1        0\n",
              "1              1         0      0               0             0        0\n",
              "2              0         0      0               0             1        0\n",
              "3              1         0      0               0             0        0\n",
              "4              1         0      0               0             0        0\n",
              "...          ...       ...    ...             ...           ...      ...\n",
              "96493          1         0      0               0             0        0\n",
              "96494          1         0      0               0             0        0\n",
              "96495          1         0      0               0             0        0\n",
              "96496          0         1      0               0             0        0\n",
              "96497          0         1      0               0             0        0\n",
              "\n",
              "[96498 rows x 6 columns]"
            ]
          },
          "metadata": {
            "tags": []
          },
          "execution_count": 13
        }
      ]
    },
    {
      "cell_type": "code",
      "metadata": {
        "id": "w8A_pGco08WN",
        "colab_type": "code",
        "colab": {
          "base_uri": "https://localhost:8080/",
          "height": 124
        },
        "outputId": "b6b8b792-a967-4c1f-b295-e38143e38634"
      },
      "source": [
        "test_size = 0.4\n",
        "x_train, x_test, y_train, y_test = train_test_split(X, Y, test_size=test_size)\n",
        "x_val, x_test, y_val, y_test = train_test_split(x_test, y_test, test_size= 0.5)\n",
        "print(x_train.shape)\n",
        "print(x_val.shape)\n",
        "print(x_test.shape)\n",
        "print(y_train.shape)\n",
        "print(y_val.shape)\n",
        "print(y_test.shape)"
      ],
      "execution_count": null,
      "outputs": [
        {
          "output_type": "stream",
          "text": [
            "(57898, 16)\n",
            "(19300, 16)\n",
            "(19300, 16)\n",
            "(57898, 6)\n",
            "(19300, 6)\n",
            "(19300, 6)\n"
          ],
          "name": "stdout"
        }
      ]
    },
    {
      "cell_type": "code",
      "metadata": {
        "id": "T6vAdtW90_AL",
        "colab_type": "code",
        "colab": {}
      },
      "source": [
        "from keras import models\n",
        "from keras import layers\n",
        "nn=models.Sequential()"
      ],
      "execution_count": null,
      "outputs": []
    },
    {
      "cell_type": "code",
      "metadata": {
        "id": "2-lNaTGr1CvJ",
        "colab_type": "code",
        "colab": {
          "base_uri": "https://localhost:8080/",
          "height": 408
        },
        "outputId": "77b04518-1fea-4d82-abae-5ecaa2301516"
      },
      "source": [
        "nn.add(layers.Dense(1024,activation = \"tanh\",input_shape=(16,))) \n",
        "nn.add(layers.Dense(512,activation=\"relu\"))\n",
        "nn.add(layers.Dense(256,activation=\"sigmoid\"))\n",
        "nn.add(layers.Dense(128,activation=\"tanh\"))\n",
        "nn.add(layers.Dense(64,activation=\"sigmoid\"))\n",
        "nn.add(layers.Dense(32,activation=\"relu\"))\n",
        "nn.add(layers.Dense(6,activation=\"softmax\"))\n",
        "nn.summary()"
      ],
      "execution_count": null,
      "outputs": [
        {
          "output_type": "stream",
          "text": [
            "Model: \"sequential\"\n",
            "_________________________________________________________________\n",
            "Layer (type)                 Output Shape              Param #   \n",
            "=================================================================\n",
            "dense (Dense)                (None, 1024)              17408     \n",
            "_________________________________________________________________\n",
            "dense_1 (Dense)              (None, 512)               524800    \n",
            "_________________________________________________________________\n",
            "dense_2 (Dense)              (None, 256)               131328    \n",
            "_________________________________________________________________\n",
            "dense_3 (Dense)              (None, 128)               32896     \n",
            "_________________________________________________________________\n",
            "dense_4 (Dense)              (None, 64)                8256      \n",
            "_________________________________________________________________\n",
            "dense_5 (Dense)              (None, 32)                2080      \n",
            "_________________________________________________________________\n",
            "dense_6 (Dense)              (None, 6)                 198       \n",
            "=================================================================\n",
            "Total params: 716,966\n",
            "Trainable params: 716,966\n",
            "Non-trainable params: 0\n",
            "_________________________________________________________________\n"
          ],
          "name": "stdout"
        }
      ]
    },
    {
      "cell_type": "code",
      "metadata": {
        "id": "vjX6YTVp1Jtp",
        "colab_type": "code",
        "colab": {}
      },
      "source": [
        "nn.compile(optimizer='sgd',\n",
        "           loss='categorical_crossentropy',\n",
        "           metrics=['accuracy'])"
      ],
      "execution_count": null,
      "outputs": []
    },
    {
      "cell_type": "code",
      "metadata": {
        "id": "Ty14n-sQ1Mhi",
        "colab_type": "code",
        "colab": {
          "base_uri": "https://localhost:8080/",
          "height": 1000
        },
        "outputId": "27d69ab3-aa6f-4dc2-d0cd-df271d8acbb0"
      },
      "source": [
        "history = nn.fit(x_train, y_train,\n",
        "                 batch_size=128,\n",
        "                 epochs =100,\n",
        "                 validation_data=(x_val, y_val))"
      ],
      "execution_count": null,
      "outputs": [
        {
          "output_type": "stream",
          "text": [
            "Epoch 1/100\n",
            "453/453 [==============================] - 9s 21ms/step - loss: 0.6687 - accuracy: 0.8323 - val_loss: 0.6161 - val_accuracy: 0.8379\n",
            "Epoch 2/100\n",
            "453/453 [==============================] - 9s 20ms/step - loss: 0.6285 - accuracy: 0.8323 - val_loss: 0.6039 - val_accuracy: 0.8379\n",
            "Epoch 3/100\n",
            "453/453 [==============================] - 9s 20ms/step - loss: 0.6132 - accuracy: 0.8323 - val_loss: 0.5836 - val_accuracy: 0.8379\n",
            "Epoch 4/100\n",
            "453/453 [==============================] - 9s 20ms/step - loss: 0.5920 - accuracy: 0.8353 - val_loss: 0.5657 - val_accuracy: 0.8601\n",
            "Epoch 5/100\n",
            "453/453 [==============================] - 9s 20ms/step - loss: 0.5757 - accuracy: 0.8579 - val_loss: 0.5503 - val_accuracy: 0.8677\n",
            "Epoch 6/100\n",
            "453/453 [==============================] - 9s 20ms/step - loss: 0.5679 - accuracy: 0.8628 - val_loss: 0.5452 - val_accuracy: 0.8698\n",
            "Epoch 7/100\n",
            "453/453 [==============================] - 9s 20ms/step - loss: 0.5651 - accuracy: 0.8632 - val_loss: 0.5436 - val_accuracy: 0.8698\n",
            "Epoch 8/100\n",
            "453/453 [==============================] - 9s 20ms/step - loss: 0.5639 - accuracy: 0.8632 - val_loss: 0.5447 - val_accuracy: 0.8696\n",
            "Epoch 9/100\n",
            "453/453 [==============================] - 9s 20ms/step - loss: 0.5634 - accuracy: 0.8632 - val_loss: 0.5463 - val_accuracy: 0.8695\n",
            "Epoch 10/100\n",
            "453/453 [==============================] - 9s 20ms/step - loss: 0.5629 - accuracy: 0.8631 - val_loss: 0.5417 - val_accuracy: 0.8697\n",
            "Epoch 11/100\n",
            "453/453 [==============================] - 9s 20ms/step - loss: 0.5626 - accuracy: 0.8632 - val_loss: 0.5419 - val_accuracy: 0.8698\n",
            "Epoch 12/100\n",
            "453/453 [==============================] - 9s 21ms/step - loss: 0.5623 - accuracy: 0.8631 - val_loss: 0.5423 - val_accuracy: 0.8696\n",
            "Epoch 13/100\n",
            "453/453 [==============================] - 9s 20ms/step - loss: 0.5621 - accuracy: 0.8631 - val_loss: 0.5411 - val_accuracy: 0.8697\n",
            "Epoch 14/100\n",
            "453/453 [==============================] - 9s 20ms/step - loss: 0.5619 - accuracy: 0.8631 - val_loss: 0.5407 - val_accuracy: 0.8697\n",
            "Epoch 15/100\n",
            "453/453 [==============================] - 9s 20ms/step - loss: 0.5616 - accuracy: 0.8631 - val_loss: 0.5423 - val_accuracy: 0.8697\n",
            "Epoch 16/100\n",
            "453/453 [==============================] - 9s 20ms/step - loss: 0.5613 - accuracy: 0.8631 - val_loss: 0.5413 - val_accuracy: 0.8696\n",
            "Epoch 17/100\n",
            "453/453 [==============================] - 9s 20ms/step - loss: 0.5612 - accuracy: 0.8631 - val_loss: 0.5408 - val_accuracy: 0.8697\n",
            "Epoch 18/100\n",
            "453/453 [==============================] - 9s 20ms/step - loss: 0.5612 - accuracy: 0.8631 - val_loss: 0.5410 - val_accuracy: 0.8697\n",
            "Epoch 19/100\n",
            "453/453 [==============================] - 9s 20ms/step - loss: 0.5611 - accuracy: 0.8630 - val_loss: 0.5408 - val_accuracy: 0.8696\n",
            "Epoch 20/100\n",
            "453/453 [==============================] - 9s 20ms/step - loss: 0.5607 - accuracy: 0.8631 - val_loss: 0.5417 - val_accuracy: 0.8697\n",
            "Epoch 21/100\n",
            "453/453 [==============================] - 9s 20ms/step - loss: 0.5607 - accuracy: 0.8631 - val_loss: 0.5401 - val_accuracy: 0.8697\n",
            "Epoch 22/100\n",
            "453/453 [==============================] - 9s 20ms/step - loss: 0.5606 - accuracy: 0.8631 - val_loss: 0.5426 - val_accuracy: 0.8697\n",
            "Epoch 23/100\n",
            "453/453 [==============================] - 9s 20ms/step - loss: 0.5603 - accuracy: 0.8631 - val_loss: 0.5406 - val_accuracy: 0.8698\n",
            "Epoch 24/100\n",
            "453/453 [==============================] - 9s 20ms/step - loss: 0.5602 - accuracy: 0.8631 - val_loss: 0.5392 - val_accuracy: 0.8697\n",
            "Epoch 25/100\n",
            "453/453 [==============================] - 9s 20ms/step - loss: 0.5601 - accuracy: 0.8632 - val_loss: 0.5391 - val_accuracy: 0.8697\n",
            "Epoch 26/100\n",
            "453/453 [==============================] - 9s 20ms/step - loss: 0.5597 - accuracy: 0.8631 - val_loss: 0.5386 - val_accuracy: 0.8697\n",
            "Epoch 27/100\n",
            "453/453 [==============================] - 9s 20ms/step - loss: 0.5593 - accuracy: 0.8632 - val_loss: 0.5383 - val_accuracy: 0.8697\n",
            "Epoch 28/100\n",
            "453/453 [==============================] - 9s 20ms/step - loss: 0.5590 - accuracy: 0.8632 - val_loss: 0.5409 - val_accuracy: 0.8696\n",
            "Epoch 29/100\n",
            "453/453 [==============================] - 9s 20ms/step - loss: 0.5589 - accuracy: 0.8631 - val_loss: 0.5380 - val_accuracy: 0.8697\n",
            "Epoch 30/100\n",
            "453/453 [==============================] - 9s 20ms/step - loss: 0.5586 - accuracy: 0.8631 - val_loss: 0.5379 - val_accuracy: 0.8697\n",
            "Epoch 31/100\n",
            "453/453 [==============================] - 9s 20ms/step - loss: 0.5584 - accuracy: 0.8631 - val_loss: 0.5386 - val_accuracy: 0.8697\n",
            "Epoch 32/100\n",
            "453/453 [==============================] - 9s 20ms/step - loss: 0.5585 - accuracy: 0.8631 - val_loss: 0.5381 - val_accuracy: 0.8696\n",
            "Epoch 33/100\n",
            "453/453 [==============================] - 9s 19ms/step - loss: 0.5583 - accuracy: 0.8631 - val_loss: 0.5376 - val_accuracy: 0.8697\n",
            "Epoch 34/100\n",
            "453/453 [==============================] - 9s 19ms/step - loss: 0.5581 - accuracy: 0.8631 - val_loss: 0.5374 - val_accuracy: 0.8697\n",
            "Epoch 35/100\n",
            "453/453 [==============================] - 9s 19ms/step - loss: 0.5580 - accuracy: 0.8631 - val_loss: 0.5378 - val_accuracy: 0.8697\n",
            "Epoch 36/100\n",
            "453/453 [==============================] - 9s 19ms/step - loss: 0.5579 - accuracy: 0.8631 - val_loss: 0.5379 - val_accuracy: 0.8697\n",
            "Epoch 37/100\n",
            "453/453 [==============================] - 9s 19ms/step - loss: 0.5577 - accuracy: 0.8631 - val_loss: 0.5376 - val_accuracy: 0.8697\n",
            "Epoch 38/100\n",
            "453/453 [==============================] - 9s 19ms/step - loss: 0.5575 - accuracy: 0.8631 - val_loss: 0.5370 - val_accuracy: 0.8697\n",
            "Epoch 39/100\n",
            "453/453 [==============================] - 9s 19ms/step - loss: 0.5574 - accuracy: 0.8631 - val_loss: 0.5404 - val_accuracy: 0.8699\n",
            "Epoch 40/100\n",
            "453/453 [==============================] - 9s 19ms/step - loss: 0.5574 - accuracy: 0.8632 - val_loss: 0.5373 - val_accuracy: 0.8697\n",
            "Epoch 41/100\n",
            "453/453 [==============================] - 9s 19ms/step - loss: 0.5573 - accuracy: 0.8630 - val_loss: 0.5367 - val_accuracy: 0.8697\n",
            "Epoch 42/100\n",
            "453/453 [==============================] - 9s 19ms/step - loss: 0.5573 - accuracy: 0.8630 - val_loss: 0.5382 - val_accuracy: 0.8698\n",
            "Epoch 43/100\n",
            "453/453 [==============================] - 9s 19ms/step - loss: 0.5571 - accuracy: 0.8631 - val_loss: 0.5375 - val_accuracy: 0.8696\n",
            "Epoch 44/100\n",
            "453/453 [==============================] - 9s 19ms/step - loss: 0.5568 - accuracy: 0.8631 - val_loss: 0.5366 - val_accuracy: 0.8697\n",
            "Epoch 45/100\n",
            "453/453 [==============================] - 9s 19ms/step - loss: 0.5570 - accuracy: 0.8631 - val_loss: 0.5386 - val_accuracy: 0.8697\n",
            "Epoch 46/100\n",
            "453/453 [==============================] - 9s 20ms/step - loss: 0.5568 - accuracy: 0.8631 - val_loss: 0.5395 - val_accuracy: 0.8697\n",
            "Epoch 47/100\n",
            "453/453 [==============================] - 9s 20ms/step - loss: 0.5566 - accuracy: 0.8631 - val_loss: 0.5368 - val_accuracy: 0.8697\n",
            "Epoch 48/100\n",
            "453/453 [==============================] - 9s 19ms/step - loss: 0.5565 - accuracy: 0.8631 - val_loss: 0.5359 - val_accuracy: 0.8698\n",
            "Epoch 49/100\n",
            "453/453 [==============================] - 9s 19ms/step - loss: 0.5566 - accuracy: 0.8632 - val_loss: 0.5367 - val_accuracy: 0.8699\n",
            "Epoch 50/100\n",
            "453/453 [==============================] - 9s 20ms/step - loss: 0.5564 - accuracy: 0.8632 - val_loss: 0.5356 - val_accuracy: 0.8698\n",
            "Epoch 51/100\n",
            "453/453 [==============================] - 9s 20ms/step - loss: 0.5561 - accuracy: 0.8632 - val_loss: 0.5374 - val_accuracy: 0.8702\n",
            "Epoch 52/100\n",
            "453/453 [==============================] - 9s 19ms/step - loss: 0.5560 - accuracy: 0.8633 - val_loss: 0.5359 - val_accuracy: 0.8699\n",
            "Epoch 53/100\n",
            "453/453 [==============================] - 9s 20ms/step - loss: 0.5560 - accuracy: 0.8633 - val_loss: 0.5355 - val_accuracy: 0.8699\n",
            "Epoch 54/100\n",
            "453/453 [==============================] - 9s 19ms/step - loss: 0.5561 - accuracy: 0.8632 - val_loss: 0.5361 - val_accuracy: 0.8700\n",
            "Epoch 55/100\n",
            "453/453 [==============================] - 9s 19ms/step - loss: 0.5560 - accuracy: 0.8633 - val_loss: 0.5357 - val_accuracy: 0.8698\n",
            "Epoch 56/100\n",
            "453/453 [==============================] - 9s 20ms/step - loss: 0.5557 - accuracy: 0.8632 - val_loss: 0.5384 - val_accuracy: 0.8704\n",
            "Epoch 57/100\n",
            "453/453 [==============================] - 9s 19ms/step - loss: 0.5555 - accuracy: 0.8632 - val_loss: 0.5354 - val_accuracy: 0.8701\n",
            "Epoch 58/100\n",
            "453/453 [==============================] - 9s 20ms/step - loss: 0.5555 - accuracy: 0.8633 - val_loss: 0.5348 - val_accuracy: 0.8701\n",
            "Epoch 59/100\n",
            "453/453 [==============================] - 9s 20ms/step - loss: 0.5555 - accuracy: 0.8633 - val_loss: 0.5361 - val_accuracy: 0.8699\n",
            "Epoch 60/100\n",
            "453/453 [==============================] - 9s 20ms/step - loss: 0.5553 - accuracy: 0.8634 - val_loss: 0.5390 - val_accuracy: 0.8697\n",
            "Epoch 61/100\n",
            "453/453 [==============================] - 9s 19ms/step - loss: 0.5553 - accuracy: 0.8634 - val_loss: 0.5348 - val_accuracy: 0.8701\n",
            "Epoch 62/100\n",
            "453/453 [==============================] - 9s 20ms/step - loss: 0.5552 - accuracy: 0.8633 - val_loss: 0.5350 - val_accuracy: 0.8701\n",
            "Epoch 63/100\n",
            "453/453 [==============================] - 9s 19ms/step - loss: 0.5552 - accuracy: 0.8633 - val_loss: 0.5345 - val_accuracy: 0.8701\n",
            "Epoch 64/100\n",
            "453/453 [==============================] - 9s 20ms/step - loss: 0.5550 - accuracy: 0.8633 - val_loss: 0.5345 - val_accuracy: 0.8701\n",
            "Epoch 65/100\n",
            "453/453 [==============================] - 9s 19ms/step - loss: 0.5547 - accuracy: 0.8634 - val_loss: 0.5356 - val_accuracy: 0.8701\n",
            "Epoch 66/100\n",
            "453/453 [==============================] - 9s 19ms/step - loss: 0.5546 - accuracy: 0.8635 - val_loss: 0.5352 - val_accuracy: 0.8702\n",
            "Epoch 67/100\n",
            "453/453 [==============================] - 9s 19ms/step - loss: 0.5546 - accuracy: 0.8635 - val_loss: 0.5345 - val_accuracy: 0.8702\n",
            "Epoch 68/100\n",
            "453/453 [==============================] - 9s 19ms/step - loss: 0.5546 - accuracy: 0.8635 - val_loss: 0.5389 - val_accuracy: 0.8701\n",
            "Epoch 69/100\n",
            "453/453 [==============================] - 9s 19ms/step - loss: 0.5545 - accuracy: 0.8637 - val_loss: 0.5339 - val_accuracy: 0.8702\n",
            "Epoch 70/100\n",
            "453/453 [==============================] - 9s 20ms/step - loss: 0.5543 - accuracy: 0.8636 - val_loss: 0.5342 - val_accuracy: 0.8701\n",
            "Epoch 71/100\n",
            "453/453 [==============================] - 9s 20ms/step - loss: 0.5544 - accuracy: 0.8637 - val_loss: 0.5345 - val_accuracy: 0.8701\n",
            "Epoch 72/100\n",
            "453/453 [==============================] - 9s 20ms/step - loss: 0.5543 - accuracy: 0.8636 - val_loss: 0.5337 - val_accuracy: 0.8704\n",
            "Epoch 73/100\n",
            "453/453 [==============================] - 9s 20ms/step - loss: 0.5541 - accuracy: 0.8638 - val_loss: 0.5343 - val_accuracy: 0.8705\n",
            "Epoch 74/100\n",
            "453/453 [==============================] - 9s 20ms/step - loss: 0.5540 - accuracy: 0.8640 - val_loss: 0.5338 - val_accuracy: 0.8704\n",
            "Epoch 75/100\n",
            "453/453 [==============================] - 9s 20ms/step - loss: 0.5540 - accuracy: 0.8640 - val_loss: 0.5343 - val_accuracy: 0.8704\n",
            "Epoch 76/100\n",
            "453/453 [==============================] - 9s 20ms/step - loss: 0.5538 - accuracy: 0.8638 - val_loss: 0.5348 - val_accuracy: 0.8707\n",
            "Epoch 77/100\n",
            "453/453 [==============================] - 9s 19ms/step - loss: 0.5538 - accuracy: 0.8640 - val_loss: 0.5336 - val_accuracy: 0.8708\n",
            "Epoch 78/100\n",
            "453/453 [==============================] - 9s 20ms/step - loss: 0.5538 - accuracy: 0.8640 - val_loss: 0.5359 - val_accuracy: 0.8705\n",
            "Epoch 79/100\n",
            "453/453 [==============================] - 9s 20ms/step - loss: 0.5537 - accuracy: 0.8642 - val_loss: 0.5347 - val_accuracy: 0.8708\n",
            "Epoch 80/100\n",
            "453/453 [==============================] - 9s 20ms/step - loss: 0.5538 - accuracy: 0.8640 - val_loss: 0.5334 - val_accuracy: 0.8704\n",
            "Epoch 81/100\n",
            "453/453 [==============================] - 9s 20ms/step - loss: 0.5536 - accuracy: 0.8642 - val_loss: 0.5341 - val_accuracy: 0.8700\n",
            "Epoch 82/100\n",
            "453/453 [==============================] - 9s 20ms/step - loss: 0.5536 - accuracy: 0.8642 - val_loss: 0.5334 - val_accuracy: 0.8706\n",
            "Epoch 83/100\n",
            "453/453 [==============================] - 9s 19ms/step - loss: 0.5534 - accuracy: 0.8642 - val_loss: 0.5338 - val_accuracy: 0.8705\n",
            "Epoch 84/100\n",
            "453/453 [==============================] - 9s 19ms/step - loss: 0.5534 - accuracy: 0.8642 - val_loss: 0.5369 - val_accuracy: 0.8702\n",
            "Epoch 85/100\n",
            "453/453 [==============================] - 9s 19ms/step - loss: 0.5535 - accuracy: 0.8642 - val_loss: 0.5331 - val_accuracy: 0.8705\n",
            "Epoch 86/100\n",
            "453/453 [==============================] - 9s 19ms/step - loss: 0.5533 - accuracy: 0.8642 - val_loss: 0.5345 - val_accuracy: 0.8707\n",
            "Epoch 87/100\n",
            "453/453 [==============================] - 9s 19ms/step - loss: 0.5533 - accuracy: 0.8642 - val_loss: 0.5335 - val_accuracy: 0.8706\n",
            "Epoch 88/100\n",
            "453/453 [==============================] - 9s 19ms/step - loss: 0.5533 - accuracy: 0.8642 - val_loss: 0.5333 - val_accuracy: 0.8707\n",
            "Epoch 89/100\n",
            "453/453 [==============================] - 9s 19ms/step - loss: 0.5530 - accuracy: 0.8644 - val_loss: 0.5333 - val_accuracy: 0.8705\n",
            "Epoch 90/100\n",
            "453/453 [==============================] - 9s 19ms/step - loss: 0.5530 - accuracy: 0.8643 - val_loss: 0.5340 - val_accuracy: 0.8703\n",
            "Epoch 91/100\n",
            "453/453 [==============================] - 9s 19ms/step - loss: 0.5530 - accuracy: 0.8641 - val_loss: 0.5334 - val_accuracy: 0.8705\n",
            "Epoch 92/100\n",
            "453/453 [==============================] - 9s 19ms/step - loss: 0.5531 - accuracy: 0.8644 - val_loss: 0.5329 - val_accuracy: 0.8706\n",
            "Epoch 93/100\n",
            "453/453 [==============================] - 9s 19ms/step - loss: 0.5530 - accuracy: 0.8642 - val_loss: 0.5332 - val_accuracy: 0.8707\n",
            "Epoch 94/100\n",
            "453/453 [==============================] - 9s 19ms/step - loss: 0.5529 - accuracy: 0.8643 - val_loss: 0.5330 - val_accuracy: 0.8704\n",
            "Epoch 95/100\n",
            "453/453 [==============================] - 9s 19ms/step - loss: 0.5529 - accuracy: 0.8644 - val_loss: 0.5331 - val_accuracy: 0.8703\n",
            "Epoch 96/100\n",
            "453/453 [==============================] - 9s 19ms/step - loss: 0.5527 - accuracy: 0.8642 - val_loss: 0.5336 - val_accuracy: 0.8704\n",
            "Epoch 97/100\n",
            "453/453 [==============================] - 9s 20ms/step - loss: 0.5526 - accuracy: 0.8643 - val_loss: 0.5338 - val_accuracy: 0.8704\n",
            "Epoch 98/100\n",
            "453/453 [==============================] - 9s 19ms/step - loss: 0.5527 - accuracy: 0.8643 - val_loss: 0.5332 - val_accuracy: 0.8705\n",
            "Epoch 99/100\n",
            "453/453 [==============================] - 9s 19ms/step - loss: 0.5526 - accuracy: 0.8643 - val_loss: 0.5336 - val_accuracy: 0.8704\n",
            "Epoch 100/100\n",
            "453/453 [==============================] - 9s 19ms/step - loss: 0.5526 - accuracy: 0.8645 - val_loss: 0.5325 - val_accuracy: 0.8706\n"
          ],
          "name": "stdout"
        }
      ]
    },
    {
      "cell_type": "markdown",
      "metadata": {
        "id": "_jwCLGQn1R3l",
        "colab_type": "text"
      },
      "source": [
        "\n",
        "Plot the accuracy vs validation acc & loss vs validation loss during epochs."
      ]
    },
    {
      "cell_type": "code",
      "metadata": {
        "id": "512fac1T1T0p",
        "colab_type": "code",
        "colab": {
          "base_uri": "https://localhost:8080/",
          "height": 295
        },
        "outputId": "78984eae-f5b8-4d6a-94f9-17340af89423"
      },
      "source": [
        "loss_train = history.history['loss']\n",
        "loss_val = history.history['val_loss']\n",
        "epochs = range(1,101)\n",
        "plt.plot(epochs, loss_train, 'g', label='Training Loss')\n",
        "plt.plot(epochs, loss_val, 'b', label='Validation Loss')\n",
        "plt.title('Training & Validation Loss')\n",
        "plt.xlabel('Epochs')\n",
        "plt.ylabel('Loss')\n",
        "plt.legend()\n",
        "plt.show()"
      ],
      "execution_count": null,
      "outputs": [
        {
          "output_type": "display_data",
          "data": {
            "image/png": "[encoded data removed]",
            "text/plain": [
              "<Figure size 432x288 with 1 Axes>"
            ]
          },
          "metadata": {
            "tags": [],
            "needs_background": "light"
          }
        }
      ]
    },
    {
      "cell_type": "code",
      "metadata": {
        "id": "KRVyAkQb1eQB",
        "colab_type": "code",
        "colab": {
          "base_uri": "https://localhost:8080/",
          "height": 295
        },
        "outputId": "9c047df3-8b97-4b00-cdff-8484a6afde87"
      },
      "source": [
        "loss_train = history.history['accuracy']\n",
        "loss_val = history.history['val_accuracy']\n",
        "epochs = range(1,101)\n",
        "plt.plot(epochs, loss_train, 'g', label='Training Accuracy')\n",
        "plt.plot(epochs, loss_val, 'b', label='Validation Accuracy')\n",
        "plt.title('Training & Validation Accuracy')\n",
        "plt.xlabel('Epochs')\n",
        "plt.ylabel('Accuracy')\n",
        "plt.legend()\n",
        "plt.show()"
      ],
      "execution_count": null,
      "outputs": [
        {
          "output_type": "display_data",
          "data": {
            "image/png": "[encoded data removed]",
            "text/plain": [
              "<Figure size 432x288 with 1 Axes>"
            ]
          },
          "metadata": {
            "tags": [],
            "needs_background": "light"
          }
        }
      ]
    },
    {
      "cell_type": "code",
      "metadata": {
        "id": "U0cjmY4W1hIW",
        "colab_type": "code",
        "colab": {
          "base_uri": "https://localhost:8080/",
          "height": 124
        },
        "outputId": "a3a53ef6-7fce-4ddb-f2cc-69ff74958680"
      },
      "source": [
        "train_loss,train_accuracy = nn.evaluate(x_train,y_train)\n",
        "val_loss,val_accuracy = nn.evaluate(x_val,y_val)\n",
        "test_loss,test_accuracy = nn.evaluate(x_test,y_test)\n",
        "print('Training Accuracy : ',train_accuracy)\n",
        "print('Validation Accuracy : ',val_accuracy)\n",
        "print('Test Accuracy : ',test_accuracy)"
      ],
      "execution_count": null,
      "outputs": [
        {
          "output_type": "stream",
          "text": [
            "1810/1810 [==============================] - 4s 2ms/step - loss: 0.5529 - accuracy: 0.8644\n",
            "604/604 [==============================] - 1s 2ms/step - loss: 0.5325 - accuracy: 0.8706\n",
            "604/604 [==============================] - 1s 2ms/step - loss: 0.5473 - accuracy: 0.8649\n",
            "Training Accuracy :  0.8643994331359863\n",
            "Validation Accuracy :  0.8705699443817139\n",
            "Test Accuracy :  0.864922285079956\n"
          ],
          "name": "stdout"
        }
      ]
    }
  ]
}